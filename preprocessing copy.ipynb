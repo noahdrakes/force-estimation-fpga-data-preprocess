{
 "cells": [
  {
   "cell_type": "markdown",
   "id": "adcc2ae9",
   "metadata": {},
   "source": [
    "# Specify Paths "
   ]
  },
  {
   "cell_type": "code",
   "execution_count": null,
   "id": "f7e6491c",
   "metadata": {},
   "outputs": [],
   "source": [
    "import os\n",
    "import pandas as pd\n",
    "import sys\n",
    "\n",
    "sys.path.append(\"/home/ndrakes1/force_estimation/preprocess/fpgav3-data-collection/unit_convert\") ## set path to unit convert\n",
    "\n",
    "\n",
    "# --- SETUP PATHS ---\n",
    "fpga_v3_data_collection_path = os.path.expanduser(\"~/force_estimation/preprocess/fpgav3-data-collection/\")\n",
    "true_preprocess_path = os.path.expanduser(\"~/force_estimation/preprocess/\")\n",
    "unit_convert_path = fpga_v3_data_collection_path + \"unit_convert/unit_convert.py\"\n",
    "si_unit_json_path = os.path.join(fpga_v3_data_collection_path, \"unit_convert/sawRobotIO1394-PSM1-334809.xml.json\")\n",
    "\n",
    "train_name_path_csv = \"/home/ndrakes1/force_estimation/data/dvrk_si_train/teleop_train_dvrk_si.csv\"\n",
    "val_test_name_path_csv = \"/home/ndrakes1/force_estimation/data/dvrk_si_train/teleop_val_test_dvrk_si.csv\"\n",
    "\n",
    "train_name_path_unit_convert_csv = \"/home/ndrakes1/force_estimation/data/dvrk_si_train/teleop_train_dvrk_si_unitConvert.csv\"\n",
    "val_test_name_path_unit_convert_csv = \"/home/ndrakes1/force_estimation/data/dvrk_si_train/teleop_val_test_dvrk_si_unitConvert.csv\"\n",
    "\n",
    "path_to_data_folder = os.path.expanduser(\"/home/ndrakes1/force_estimation/data/dvrk_si_train/\")\n",
    "new_preprocessed_data_folder = \"preprocess\"\n",
    "new_dir = os.path.join(path_to_data_folder, new_preprocessed_data_folder)\n",
    "\n",
    "train_sub = os.path.join(new_dir, \"train/joints/\")\n",
    "val_sub = os.path.join(new_dir, \"val/joints/\")\n",
    "test_sub = os.path.join(new_dir, \"test/joints/\")"
   ]
  },
  {
   "cell_type": "markdown",
   "id": "69b8c10f",
   "metadata": {},
   "source": [
    "## paths for high freq preprocessing"
   ]
  },
  {
   "cell_type": "code",
   "execution_count": 21,
   "id": "f171ae90",
   "metadata": {},
   "outputs": [
    {
     "name": "stdout",
     "output_type": "stream",
     "text": [
      "python3 /home/ndrakes1/force_estimation/preprocess/force-estimation-fpga-data-preprocess/preprocessing.py /home/ndrakes1/force_estimation/data/dvrk_si_train/teleop_train_dvrk_si_unitConvert.csv\n"
     ]
    }
   ],
   "source": [
    "preproces_path = \"/home/ndrakes1/force_estimation/preprocess/force-estimation-fpga-data-preprocess\"\n",
    "preprocessing_script_path = preproces_path + \"/preprocessing.py\"\n",
    "split_val_test_path = preproces_path + \"/split_val_test.py\"\n",
    "\n",
    "preprocessing_train_cmd = \"python3 \" + preprocessing_script_path + \" \" + train_name_path_unit_convert_csv\n",
    "preprocessing_val_test_cmd =\"python3 \" + preprocessing_script_path + \" \" + val_test_name_path_unit_convert_csv\n",
    "\n",
    "print(preprocessing_train_cmd)"
   ]
  },
  {
   "cell_type": "code",
   "execution_count": 22,
   "id": "396a69fe",
   "metadata": {},
   "outputs": [],
   "source": [
    "os.makedirs(train_sub, exist_ok=True)\n",
    "os.makedirs(val_sub, exist_ok=True)\n",
    "os.makedirs(test_sub, exist_ok=True)"
   ]
  },
  {
   "cell_type": "markdown",
   "id": "08215924",
   "metadata": {},
   "source": [
    "# Unit Conversion to SI units"
   ]
  },
  {
   "cell_type": "code",
   "execution_count": 23,
   "id": "994e35a5",
   "metadata": {},
   "outputs": [
    {
     "name": "stdout",
     "output_type": "stream",
     "text": [
      "Data written to /home/ndrakes1/force_estimation/data/dvrk_si_train/teleop_train_dvrk_si_unitConvert.csv\n",
      "Data written to /home/ndrakes1/force_estimation/data/dvrk_si_train/teleop_val_test_dvrk_si_unitConvert.csv\n"
     ]
    }
   ],
   "source": [
    "sys.path.append(os.path.join(fpga_v3_data_collection_path, \"unit_convert\"))\n",
    "from unit_convert import unitConvert, saveConfigFile\n",
    "\n",
    "# TRAIN\n",
    "train_converted = unitConvert(si_unit_json_path, train_name_path_csv)\n",
    "saveConfigFile(train_name_path_csv, train_converted)  # auto-saves *_unitConvert.csv\n",
    "\n",
    "# VAL/TEST\n",
    "val_converted = unitConvert(si_unit_json_path, val_test_name_path_csv)\n",
    "saveConfigFile(val_test_name_path_csv, val_converted)"
   ]
  },
  {
   "cell_type": "markdown",
   "id": "af5af789",
   "metadata": {},
   "source": []
  },
  {
   "cell_type": "markdown",
   "id": "f56adaee",
   "metadata": {},
   "source": [
    "# High Freq Preprocessing"
   ]
  },
  {
   "cell_type": "code",
   "execution_count": 24,
   "id": "ea2b2676",
   "metadata": {},
   "outputs": [
    {
     "name": "stderr",
     "output_type": "stream",
     "text": [
      "/home/ndrakes1/force_estimation/preprocess/force-estimation-fpga-data-preprocess/split_val_test.py:5: DtypeWarning: Columns (0,1,2,3,4,5,6,7,8,9,10,11,12,13,14,15,16,17,18) have mixed types. Specify dtype option on import or set low_memory=False.\n",
      "  df = pd.read_csv(input_csv, header=None)\n"
     ]
    },
    {
     "name": "stdout",
     "output_type": "stream",
     "text": [
      "Validation set saved to val.csv 519558 rows\n",
      "Test set saved to test.csv 519559 rows\n"
     ]
    }
   ],
   "source": [
    "sys.path.append(os.path.join(true_preprocess_path, \"force-estimation-fpga-data-preprocess\"))\n",
    "\n",
    "from preprocessing import preprocess_csv\n",
    "from split_val_test import split_val_test\n",
    "\n",
    "# Preprocess TRAIN\n",
    "train_df = preprocess_csv(train_name_path_unit_convert_csv)\n",
    "train_df.to_csv(os.path.join(train_sub, \"interpolated_all_joints.csv\"), index=False)\n",
    "\n",
    "# Preprocess VAL/TEST\n",
    "val_test_df = preprocess_csv(val_test_name_path_unit_convert_csv)\n",
    "interpolated_all_joints_path = os.path.join(true_preprocess_path, \"interpolated_all_joints.csv\")\n",
    "val_test_df.to_csv(interpolated_all_joints_path, index=False)\n",
    "\n",
    "# --- SPLIT VAL / TEST ---\n",
    "split_val_test(interpolated_all_joints_path,split_ratio=.5)\n"
   ]
  },
  {
   "cell_type": "markdown",
   "id": "d1d9cd0e",
   "metadata": {},
   "source": [
    "## preprocessing "
   ]
  },
  {
   "cell_type": "code",
   "execution_count": null,
   "id": "341b5c94",
   "metadata": {},
   "outputs": [],
   "source": []
  }
 ],
 "metadata": {
  "kernelspec": {
   "display_name": ".venv",
   "language": "python",
   "name": "python3"
  },
  "language_info": {
   "codemirror_mode": {
    "name": "ipython",
    "version": 3
   },
   "file_extension": ".py",
   "mimetype": "text/x-python",
   "name": "python",
   "nbconvert_exporter": "python",
   "pygments_lexer": "ipython3",
   "version": "3.12.3"
  }
 },
 "nbformat": 4,
 "nbformat_minor": 5
}
