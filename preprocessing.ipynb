{
 "cells": [
  {
   "cell_type": "markdown",
   "id": "adcc2ae9",
   "metadata": {},
   "source": [
    "# Specify Paths "
   ]
  },
  {
   "cell_type": "code",
   "execution_count": 11,
   "id": "f7e6491c",
   "metadata": {},
   "outputs": [
    {
     "name": "stdout",
     "output_type": "stream",
     "text": [
      "/processed_CUTOFF_15\n",
      "/processed_CUTOFF_15_FILTER_100\n"
     ]
    }
   ],
   "source": [
    "\n",
    "fpga_v3_data_collection_path = \"~/force_estimation/preprocess/fpgav3-data-collection/\" # SET THIS ONCE\n",
    "\n",
    "true_preprocess_path = \"~/force_estimation/preprocess/\"\n",
    "\n",
    "\n",
    "unit_convert_path = fpga_v3_data_collection_path + \"unit_convert/unit_convert.py\"\n",
    "si_unit_json_path = fpga_v3_data_collection_path + \"unit_convert/sawRobotIO1394-PSM1-334809.xml.json\"\n",
    "unit_convert_cmd = \"python3 \" + unit_convert_path + \" -c \" + si_unit_json_path + \" -f \" \n",
    "\n",
    "train_name_path_csv = \"/home/ndrakes1/force_estimation/data/capture_7-31-25_embedded/train/train.csv\" # SET THIS\n",
    "val_test_name_path_csv = \"/home/ndrakes1/force_estimation/data/capture_7-31-25_embedded/val_test/val_test.csv\" # SET THIS\n",
    "\n",
    "train_name_path_unit_convert_csv = \"/home/ndrakes1/force_estimation/data/capture_7-31-25_embedded/train/train_unitConvert.csv\" # SET THIS\n",
    "val_ttest_name_path_unit_convert_csv = \"/home/ndrakes1/force_estimation/data/capture_7-31-25_embedded/val_test/val_test_unitConvert.csv\" # SET THIS\n",
    "\n",
    "path_to_data_foleder = \"/home/ndrakes1/force_estimation/data/capture_7-31-25_embedded\" ## SET THIS\n",
    "new_preprocessed_data_folder = \"/processed\"\n",
    "\n",
    "unit_convert_train_cmd = unit_convert_cmd + train_name_path_csv\n",
    "unit_convert_val_test_cmd = unit_convert_cmd + val_test_name_path_csv\n",
    "\n",
    "ORIGINAL_FREQ = 5000\n",
    "\n",
    "CUTOFF = True\n",
    "CUTOFF_SECS = 15\n",
    "\n",
    "if CUTOFF == True:\n",
    "    new_preprocessed_data_folder += \"_CUTOFF_\" + str(CUTOFF_SECS)\n",
    "    print(new_preprocessed_data_folder)\n",
    "\n",
    "FILTER = True\n",
    "FILTER_FREQ = 100\n",
    "\n",
    "if FILTER == True:\n",
    "    new_preprocessed_data_folder += \"_FILTER_\" + str(FILTER_FREQ)\n",
    "    print(new_preprocessed_data_folder)\n",
    "\n",
    "DOWNSAMPLE = False\n",
    "DOWNSAMPLE_FREQ = 200\n",
    "\n",
    "if DOWNSAMPLE == True:\n",
    "    new_preprocessed_data_folder += \"_DOWNSAMPLE_\" + str(DOWNSAMPLE_FREQ)\n",
    "\n"
   ]
  },
  {
   "cell_type": "markdown",
   "id": "69b8c10f",
   "metadata": {},
   "source": [
    "## paths for high freq preprocessing"
   ]
  },
  {
   "cell_type": "code",
   "execution_count": 12,
   "id": "f171ae90",
   "metadata": {},
   "outputs": [
    {
     "name": "stdout",
     "output_type": "stream",
     "text": [
      "python3 /home/ndrakes1/force_estimation/preprocess/force-estimation-fpga-data-preprocess/preprocessing.py /home/ndrakes1/force_estimation/data/capture_7-31-25_embedded/train/train_unitConvert.csv\n"
     ]
    }
   ],
   "source": [
    "preproces_path = \"/home/ndrakes1/force_estimation/preprocess/force-estimation-fpga-data-preprocess\"\n",
    "preprocessing_script_path = preproces_path + \"/preprocessing.py\"\n",
    "split_val_test_path = preproces_path + \"/split_val_test.py\"\n",
    "\n",
    "preprocessing_train_cmd = \"python3 \" + preprocessing_script_path + \" \" + train_name_path_unit_convert_csv\n",
    "preprocessing_val_test_cmd =\"python3 \" + preprocessing_script_path + \" \" + val_ttest_name_path_unit_convert_csv\n",
    "\n",
    "print(preprocessing_train_cmd)"
   ]
  },
  {
   "cell_type": "code",
   "execution_count": 13,
   "id": "396a69fe",
   "metadata": {},
   "outputs": [
    {
     "data": {
      "text/plain": [
       "CompletedProcess(args='mkdir -p /home/ndrakes1/force_estimation/data/capture_7-31-25_embedded/processed_CUTOFF_15_FILTER_100/train/joints/ /home/ndrakes1/force_estimation/data/capture_7-31-25_embedded/processed_CUTOFF_15_FILTER_100/val/joints/ /home/ndrakes1/force_estimation/data/capture_7-31-25_embedded/processed_CUTOFF_15_FILTER_100/test/joints', returncode=0)"
      ]
     },
     "execution_count": 13,
     "metadata": {},
     "output_type": "execute_result"
    }
   ],
   "source": [
    "## making preprocessed data dir \n",
    "import subprocess\n",
    "\n",
    "new_dir = path_to_data_foleder + new_preprocessed_data_folder\n",
    "train_sub = new_dir + \"/train/joints/\"\n",
    "val_sub = new_dir + \"/val/joints/\"\n",
    "test_sub = new_dir + \"/test/joints\"\n",
    "mk_new_dir_cmd = \"mkdir -p \" + train_sub + \" \" + val_sub + \" \" + test_sub\n",
    "\n",
    "subprocess.run(mk_new_dir_cmd, shell=True)"
   ]
  },
  {
   "cell_type": "markdown",
   "id": "08215924",
   "metadata": {},
   "source": [
    "# Unit Conversion to SI units"
   ]
  },
  {
   "cell_type": "code",
   "execution_count": 14,
   "id": "994e35a5",
   "metadata": {},
   "outputs": [
    {
     "name": "stdout",
     "output_type": "stream",
     "text": [
      "Data written to /home/ndrakes1/force_estimation/data/capture_7-31-25_embedded/val_test/val_test_unitConvert.csv\n",
      "Data written to /home/ndrakes1/force_estimation/data/capture_7-31-25_embedded/train/train_unitConvert.csv\n"
     ]
    },
    {
     "data": {
      "text/plain": [
       "CompletedProcess(args='python3 ~/force_estimation/preprocess/fpgav3-data-collection/unit_convert/unit_convert.py -c ~/force_estimation/preprocess/fpgav3-data-collection/unit_convert/sawRobotIO1394-PSM1-334809.xml.json -f /home/ndrakes1/force_estimation/data/capture_7-31-25_embedded/train/train.csv', returncode=0)"
      ]
     },
     "execution_count": 14,
     "metadata": {},
     "output_type": "execute_result"
    }
   ],
   "source": [
    "\n",
    "subprocess.run(unit_convert_val_test_cmd, shell=True)\n",
    "subprocess.run(unit_convert_train_cmd, shell=True)"
   ]
  },
  {
   "cell_type": "markdown",
   "id": "af5af789",
   "metadata": {},
   "source": []
  },
  {
   "cell_type": "markdown",
   "id": "f56adaee",
   "metadata": {},
   "source": [
    "# High Freq Preprocessing"
   ]
  },
  {
   "cell_type": "code",
   "execution_count": 15,
   "id": "ea2b2676",
   "metadata": {},
   "outputs": [
    {
     "name": "stdout",
     "output_type": "stream",
     "text": [
      "finished preprocessing train \n",
      "finished moving train\n",
      "preprocess split and val\n",
      "Validation set saved to val.csv 476814 rows\n",
      "Test set saved to test.csv 476814 rows\n",
      "split into val and test\n"
     ]
    },
    {
     "data": {
      "text/plain": [
       "CompletedProcess(args='mv /home/ndrakes1/force_estimation/data/capture_7-31-25_embedded/processed_CUTOFF_15_FILTER_100/test/joints/test.csv /home/ndrakes1/force_estimation/data/capture_7-31-25_embedded/processed_CUTOFF_15_FILTER_100/test/joints/interpolated_all_joints.csv', returncode=0)"
      ]
     },
     "execution_count": 15,
     "metadata": {},
     "output_type": "execute_result"
    }
   ],
   "source": [
    "## interpolate train and place it in correct directory\n",
    "##train\n",
    "subprocess.run(preprocessing_train_cmd, shell=True)\n",
    "print(\"finished preprocessing train \")\n",
    "interpolated_all_joints_path = preproces_path + \"/interpolated_all_joints.csv\"\n",
    "mv_train_interpolated_cmd = \"mv \" + interpolated_all_joints_path + \" \" + train_sub\n",
    "subprocess.run(mv_train_interpolated_cmd, shell=True)\n",
    "print(\"finished moving train\")\n",
    "\n",
    "## val test\n",
    "subprocess.run(preprocessing_val_test_cmd, shell=True)\n",
    "print(\"preprocess split and val\")\n",
    "\n",
    "# # split\n",
    "split_val_test_cmd = \"python3 \" + preproces_path + \"/split_val_test.py \" + interpolated_all_joints_path\n",
    "subprocess.run(split_val_test_cmd, shell=True)\n",
    "print(\"split into val and test\")\n",
    "#interpolate val test and split into val and test\n",
    "val_path = val_sub\n",
    "mv_val_cmd = \"mv \" + preproces_path + \"/val.csv \" + val_path\n",
    "subprocess.run(mv_val_cmd, shell=True)\n",
    "change_val_interpolated_cmd = \"mv \" + val_path + \"/val.csv \" + val_path + \"/interpolated_all_joints.csv\"\n",
    "subprocess.run(change_val_interpolated_cmd, shell=True)\n",
    "\n",
    "test_path = test_sub\n",
    "mv_test_cmd = \"mv \" + preproces_path + \"/test.csv \" + test_path\n",
    "subprocess.run(mv_test_cmd, shell=True)\n",
    "change_test_interpolated_cmd = \"mv \" + test_path + \"/test.csv \" + test_path + \"/interpolated_all_joints.csv\"\n",
    "subprocess.run(change_test_interpolated_cmd, shell=True)"
   ]
  },
  {
   "cell_type": "markdown",
   "id": "dfb66830",
   "metadata": {},
   "source": [
    "## Preprocessed Training File Paths"
   ]
  },
  {
   "cell_type": "code",
   "execution_count": 16,
   "id": "c4b6589e",
   "metadata": {},
   "outputs": [],
   "source": [
    "import os\n",
    "\n",
    "train_file = os.path.join(train_sub, \"interpolated_all_joints.csv\")\n",
    "val_file = os.path.join(val_sub, \"interpolated_all_joints.csv\")\n",
    "test_file = os.path.join(test_sub, \"interpolated_all_joints.csv\")"
   ]
  },
  {
   "cell_type": "markdown",
   "id": "d1d9cd0e",
   "metadata": {},
   "source": [
    "## Cutoff\n"
   ]
  },
  {
   "cell_type": "code",
   "execution_count": 17,
   "id": "341b5c94",
   "metadata": {},
   "outputs": [
    {
     "name": "stdout",
     "output_type": "stream",
     "text": [
      "Saved truncated CSV to /home/ndrakes1/force_estimation/data/capture_7-31-25_embedded/processed_CUTOFF_15_FILTER_100/train/joints/interpolated_all_joints.csv, removed 15 seconds from beginning and end\n",
      "Saved truncated CSV to /home/ndrakes1/force_estimation/data/capture_7-31-25_embedded/processed_CUTOFF_15_FILTER_100/val/joints/interpolated_all_joints.csv, removed 15 seconds from beginning and end\n",
      "Saved truncated CSV to /home/ndrakes1/force_estimation/data/capture_7-31-25_embedded/processed_CUTOFF_15_FILTER_100/test/joints/interpolated_all_joints.csv, removed 15 seconds from beginning and end\n"
     ]
    }
   ],
   "source": [
    "from cutoff import truncate_csv\n",
    "\n",
    "\n",
    "if (CUTOFF == True):\n",
    "    ## TRAIN\n",
    "    truncate_csv(train_file, train_file, CUTOFF_SECS, ORIGINAL_FREQ)\n",
    "    truncate_csv(val_file, val_file, CUTOFF_SECS, ORIGINAL_FREQ)\n",
    "    truncate_csv(test_file, test_file, CUTOFF_SECS, ORIGINAL_FREQ)"
   ]
  },
  {
   "cell_type": "markdown",
   "id": "04a4e826",
   "metadata": {},
   "source": [
    "## Filtering"
   ]
  },
  {
   "cell_type": "code",
   "execution_count": 18,
   "id": "147b1306",
   "metadata": {},
   "outputs": [
    {
     "name": "stdout",
     "output_type": "stream",
     "text": [
      "Filtered and saved to /home/ndrakes1/force_estimation/data/capture_7-31-25_embedded/processed_CUTOFF_15_FILTER_100/train/joints/interpolated_all_joints.csv\n",
      "Filtered and saved to /home/ndrakes1/force_estimation/data/capture_7-31-25_embedded/processed_CUTOFF_15_FILTER_100/val/joints/interpolated_all_joints.csv\n",
      "Filtered and saved to /home/ndrakes1/force_estimation/data/capture_7-31-25_embedded/processed_CUTOFF_15_FILTER_100/test/joints/interpolated_all_joints.csv\n"
     ]
    }
   ],
   "source": [
    "import importlib\n",
    "import filter  # regular import first\n",
    "importlib.reload(filter)\n",
    "\n",
    "\n",
    "\n",
    "if (FILTER == True):\n",
    "    # Design filter\n",
    "    fir_coeffs = filter.design_fir_filter(filter_type='kaiser', fs=ORIGINAL_FREQ, fC=FILTER_FREQ, order=30)\n",
    "\n",
    "    # Apply to train/val/test CSVs\n",
    "    filter.apply_filter_to_torque_feedback(train_file, train_file, fir_coeffs)\n",
    "    filter.apply_filter_to_torque_feedback(val_file, val_file, fir_coeffs)\n",
    "    filter.apply_filter_to_torque_feedback(test_file, test_file, fir_coeffs)"
   ]
  },
  {
   "cell_type": "markdown",
   "id": "88050431",
   "metadata": {},
   "source": [
    "## Downsample\n"
   ]
  },
  {
   "cell_type": "code",
   "execution_count": 19,
   "id": "7cd87252",
   "metadata": {},
   "outputs": [],
   "source": [
    "from downsample import downsample_csv\n",
    "\n",
    "if (DOWNSAMPLE == True):\n",
    "    downsample_csv(train_file, train_file, ORIGINAL_FREQ, DOWNSAMPLE_FREQ)\n",
    "    downsample_csv(val_file, val_file, ORIGINAL_FREQ, DOWNSAMPLE_FREQ)\n",
    "    downsample_csv(test_file, val_file, ORIGINAL_FREQ, DOWNSAMPLE_FREQ)\n"
   ]
  }
 ],
 "metadata": {
  "kernelspec": {
   "display_name": ".venv",
   "language": "python",
   "name": "python3"
  },
  "language_info": {
   "codemirror_mode": {
    "name": "ipython",
    "version": 3
   },
   "file_extension": ".py",
   "mimetype": "text/x-python",
   "name": "python",
   "nbconvert_exporter": "python",
   "pygments_lexer": "ipython3",
   "version": "3.12.3"
  }
 },
 "nbformat": 4,
 "nbformat_minor": 5
}
