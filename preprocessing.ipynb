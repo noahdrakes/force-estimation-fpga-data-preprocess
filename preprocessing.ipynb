{
 "cells": [
  {
   "cell_type": "markdown",
   "id": "adcc2ae9",
   "metadata": {},
   "source": [
    "# Specify Paths "
   ]
  },
  {
   "cell_type": "markdown",
   "id": "59ec8236",
   "metadata": {},
   "source": []
  },
  {
   "cell_type": "code",
   "execution_count": null,
   "id": "f7e6491c",
   "metadata": {},
   "outputs": [],
   "source": [
    "\n",
    "fpga_v3_data_collection_path = \"/home/ndrakes1/force_estimation/preprocess/fpgav3-data-collection/\" # SET THIS ONCE\n",
    "preproces_path = \"/home/ndrakes1/force_estimation/preprocess/force-estimation-fpga-data-preprocess\" # SET THIS ONCE\n",
    "\n",
    "true_preprocess_path = \"~/force_estimation/preprocess/\"\n",
    "\n",
    "\n",
    "unit_convert_path = fpga_v3_data_collection_path + \"unit_convert/unit_convert.py\"\n",
    "si_unit_json_path = \"/home/ndrakes1/force_estimation/data/XML_FILES/sawRobotIO1394-PSM1-292409.xml.json\"\n",
    "unit_convert_cmd = \"python3 \" + unit_convert_path + \" -c \" + si_unit_json_path + \" -f \" \n",
    "\n",
    "train_name_path_csv = \"/home/ndrakes1/force_estimation/data/capture_8-18-25/10kHz_20min/train.csv\" # SET THIS\n",
    "val_test_name_path_csv = \"/home/ndrakes1/force_estimation/data/capture_8-18-25/10kHz_20min/val.csv\" # SET THIS\n",
    "\n",
    "\n",
    "train_name_path_unit_convert_csv = \"/home/ndrakes1/force_estimation/data/capture_8-18-25/10kHz_20min/train_unitConvert.csv\" # SET THIS\n",
    "val_ttest_name_path_unit_convert_csv = \"/home/ndrakes1/force_estimation/data/capture_8-18-25/10kHz_20min/val_unitConvert.csv\" # SET THIS\n",
    "\n",
    "path_to_data_foleder = \"/home/ndrakes1/force_estimation/data/capture_8-18-25/10kHz_20min\"\n",
    "new_preprocessed_data_folder = \"/preprocessed\"\n",
    "\n",
    "unit_convert_train_cmd = unit_convert_cmd + train_name_path_csv\n",
    "unit_convert_val_test_cmd = unit_convert_cmd + val_test_name_path_csv\n",
    "\n",
    "ORIGINAL_FREQ = 10000\n",
    "\n",
    "CUTOFF = True\n",
    "CUTOFF_SECS = 20\n",
    "\n",
    "if CUTOFF == True:\n",
    "    new_preprocessed_data_folder += \"_CUTOFF_\" + str(CUTOFF_SECS)\n",
    "\n",
    "INTERPOLATE = True\n",
    "\n",
    "if INTERPOLATE == True:\n",
    "    new_preprocessed_data_folder += \"_INTERPOLATE\" \n",
    "\n",
    "\n",
    "FILTER = True\n",
    "FILTER_FREQ = 200\n",
    "FILTER_VELOCITY = True\n",
    "\n",
    "if FILTER == True:\n",
    "    new_preprocessed_data_folder += \"_FILTER_\" + str(FILTER_FREQ)\n",
    "\n",
    "DOWNSAMPLE = True\n",
    "DOWNSAMPLE_FREQ = 1000\n",
    "DOWNSAMPLE_MOVING_AVERAGE = True\n",
    "\n",
    "if DOWNSAMPLE == True:\n",
    "    new_preprocessed_data_folder += \"_DOWNSAMPLE_\" + str(DOWNSAMPLE_FREQ)\n",
    "\n"
   ]
  },
  {
   "cell_type": "code",
   "execution_count": 29,
   "id": "396a69fe",
   "metadata": {},
   "outputs": [
    {
     "data": {
      "text/plain": [
       "CompletedProcess(args='mkdir -p /home/ndrakes1/force_estimation/data/capture_8-18-25/10kHz_20min/preprocessed_CUTOFF_20_INTERPOLATE_FILTER_200/train/joints/ /home/ndrakes1/force_estimation/data/capture_8-18-25/10kHz_20min/preprocessed_CUTOFF_20_INTERPOLATE_FILTER_200/val/joints/ /home/ndrakes1/force_estimation/data/capture_8-18-25/10kHz_20min/preprocessed_CUTOFF_20_INTERPOLATE_FILTER_200/test/joints/', returncode=0)"
      ]
     },
     "execution_count": 29,
     "metadata": {},
     "output_type": "execute_result"
    }
   ],
   "source": [
    "## making preprocessed data dir \n",
    "import subprocess\n",
    "\n",
    "new_dir = path_to_data_foleder + new_preprocessed_data_folder\n",
    "train_sub = new_dir + \"/train/joints/\"\n",
    "val_sub = new_dir + \"/val/joints/\"\n",
    "test_sub = new_dir + \"/test/joints/\"\n",
    "mk_new_dir_cmd = \"mkdir -p \" + train_sub + \" \" + val_sub + \" \" + test_sub\n",
    "\n",
    "subprocess.run(mk_new_dir_cmd, shell=True)"
   ]
  },
  {
   "cell_type": "markdown",
   "id": "46c3ba88",
   "metadata": {},
   "source": [
    "## paths for high freq preprocessing"
   ]
  },
  {
   "cell_type": "code",
   "execution_count": 21,
   "id": "ac84764e",
   "metadata": {},
   "outputs": [
    {
     "name": "stdout",
     "output_type": "stream",
     "text": [
      "python3 /home/ndrakes1/force_estimation/preprocess/force-estimation-fpga-data-preprocess/preprocessing.py /home/ndrakes1/force_estimation/data/capture_8-18-25/10kHz_20min/train_unitConvert.csv /home/ndrakes1/force_estimation/data/capture_8-18-25/10kHz_20min/preprocessed_CUTOFF_20_INTERPOLATE_FILTER_200/train/joints/interpolated_all_joints.csv\n"
     ]
    }
   ],
   "source": [
    "\n",
    "preprocessing_script_path = preproces_path + \"/preprocessing.py\"\n",
    "split_val_test_path = preproces_path + \"/split_val_test.py\"\n",
    "\n",
    "preprocessing_train_cmd = \"python3 \" + preprocessing_script_path + \" \" + train_name_path_unit_convert_csv + \" \" + train_sub + \"interpolated_all_joints.csv\"\n",
    "preprocessing_val_test_cmd =\"python3 \" + preprocessing_script_path + \" \" + val_ttest_name_path_unit_convert_csv + \" \" + val_sub + \"interpolated_all_joints.csv\"\n",
    "\n",
    "print(preprocessing_train_cmd)"
   ]
  },
  {
   "cell_type": "markdown",
   "id": "08215924",
   "metadata": {},
   "source": [
    "# Unit Conversion to SI units"
   ]
  },
  {
   "cell_type": "code",
   "execution_count": null,
   "id": "994e35a5",
   "metadata": {},
   "outputs": [
    {
     "name": "stdout",
     "output_type": "stream",
     "text": [
      "Data written to /home/ndrakes1/force_estimation/data/capture_8-18-25/10kHz_20min/val_unitConvert.csv\n",
      "Data written to /home/ndrakes1/force_estimation/data/capture_8-18-25/10kHz_20min/train_unitConvert.csv\n"
     ]
    },
    {
     "data": {
      "text/plain": [
       "CompletedProcess(args='python3 /home/ndrakes1/force_estimation/preprocess/fpgav3-data-collection/unit_convert/unit_convert.py -c /home/ndrakes1/force_estimation/data/XML_FILES/sawRobotIO1394-PSM1-292409.xml.json -f /home/ndrakes1/force_estimation/data/capture_8-18-25/10kHz_20min/train.csv', returncode=0)"
      ]
     },
     "execution_count": 10,
     "metadata": {},
     "output_type": "execute_result"
    }
   ],
   "source": [
    "\n",
    "subprocess.run(unit_convert_val_test_cmd, shell=True)\n",
    "subprocess.run(unit_convert_train_cmd, shell=True)"
   ]
  },
  {
   "cell_type": "markdown",
   "id": "af5af789",
   "metadata": {},
   "source": []
  },
  {
   "cell_type": "markdown",
   "id": "f56adaee",
   "metadata": {},
   "source": [
    "# High Freq Preprocessing"
   ]
  },
  {
   "cell_type": "code",
   "execution_count": null,
   "id": "ea2b2676",
   "metadata": {},
   "outputs": [],
   "source": [
    "# # interpolate train and place it in correct directory\n",
    "# # train\n",
    "subprocess.run(preprocessing_train_cmd, shell=True)\n",
    "print(\"finished preprocessing train \")\n",
    "\n",
    "## val test\n",
    "subprocess.run(preprocessing_val_test_cmd, shell=True)\n",
    "print(\"preprocess split and val\")\n",
    "\n",
    "# # split\n",
    "split_val_test_cmd = \"python3 \" + preproces_path + \"/split_val_test.py \" + \" \" + val_sub + \"interpolated_all_joints.csv\"\n",
    "subprocess.run(split_val_test_cmd, shell=True)\n",
    "print(\"split into val and test\")\n",
    "\n",
    "!mv {preproces_path}/val.csv {val_sub}interpolated_all_joints.csv\n",
    "!mv {preproces_path}/test.csv {test_sub}interpolated_all_joints.csv\n"
   ]
  },
  {
   "cell_type": "markdown",
   "id": "dfb66830",
   "metadata": {},
   "source": [
    "## Preprocessed Training File Paths"
   ]
  },
  {
   "cell_type": "code",
   "execution_count": 38,
   "id": "c4b6589e",
   "metadata": {},
   "outputs": [],
   "source": [
    "import os\n",
    "import pandas as pd\n",
    "\n",
    "train_file = os.path.join(train_sub, \"interpolated_all_joints.csv\")\n",
    "val_file = os.path.join(val_sub, \"interpolated_all_joints.csv\")\n",
    "test_file = os.path.join(test_sub, \"interpolated_all_joints.csv\")\n",
    "\n",
    "train_df = pd.read_csv(train_file, header=None)\n",
    "val_df =  pd.read_csv(val_file, header=None)\n",
    "test_df = pd.read_csv(test_file, header=None)"
   ]
  },
  {
   "cell_type": "markdown",
   "id": "d1d9cd0e",
   "metadata": {},
   "source": [
    "## Cutoff\n"
   ]
  },
  {
   "cell_type": "code",
   "execution_count": 33,
   "id": "341b5c94",
   "metadata": {},
   "outputs": [
    {
     "name": "stdout",
     "output_type": "stream",
     "text": [
      "total rows:  12111047\n",
      "total rows:  1845688\n",
      "total rows:  1845688\n"
     ]
    }
   ],
   "source": [
    "from cutoff import truncate_dataframe\n",
    "\n",
    "\n",
    "if (CUTOFF == True):\n",
    "    ## TRAIN\n",
    "    FREQ =  ORIGINAL_FREQ if DOWNSAMPLE == False else DOWNSAMPLE_FREQ\n",
    "    ## TRAIN\n",
    "    train_df = truncate_dataframe(train_df, CUTOFF_SECS, FREQ)\n",
    "    val_df = truncate_dataframe(val_df, CUTOFF_SECS, FREQ)\n",
    "    test_df = truncate_dataframe(test_df, CUTOFF_SECS, FREQ)"
   ]
  },
  {
   "cell_type": "markdown",
   "id": "2a12826e",
   "metadata": {},
   "source": [
    "## Interpolate"
   ]
  },
  {
   "cell_type": "code",
   "execution_count": 34,
   "id": "dbe65246",
   "metadata": {},
   "outputs": [
    {
     "name": "stdout",
     "output_type": "stream",
     "text": [
      "[0.0000000e+00 1.0053000e-04 1.9984800e-04 ... 1.1711044e+03 1.1711045e+03\n",
      " 1.1711046e+03]\n",
      "[0.00000000e+00 9.95400000e-05 1.99080000e-04 ... 1.44568499e+02\n",
      " 1.44568599e+02 1.44568699e+02]\n",
      "[0.000000e+00 1.001940e-04 1.995180e-04 ... 1.445685e+02 1.445686e+02\n",
      " 1.445687e+02]\n"
     ]
    }
   ],
   "source": [
    "from interpolate_timestamps import interpolate_dataframe_to_sample_rate\n",
    "\n",
    "if (INTERPOLATE == True):\n",
    "    \n",
    "    train_df = interpolate_dataframe_to_sample_rate(train_df, ORIGINAL_FREQ)\n",
    "    val_df = interpolate_dataframe_to_sample_rate(val_df, ORIGINAL_FREQ)\n",
    "    test_df = interpolate_dataframe_to_sample_rate(test_df, ORIGINAL_FREQ)\n"
   ]
  },
  {
   "cell_type": "markdown",
   "id": "04a4e826",
   "metadata": {},
   "source": [
    "## FIR Filtering"
   ]
  },
  {
   "cell_type": "code",
   "execution_count": null,
   "id": "147b1306",
   "metadata": {},
   "outputs": [],
   "source": [
    "import importlib\n",
    "import filter  # regular import first\n",
    "importlib.reload(filter)\n",
    "\n",
    "\n",
    "\n",
    "if (FILTER == True):\n",
    "    # Design filter\n",
    "    fir_coeffs = filter.design_fir_filter(filter_type='kaiser', fs=ORIGINAL_FREQ, fC=FILTER_FREQ, order=30)\n",
    "\n",
    "    # Apply to train/val/test CSVs\n",
    "    train_df = filter.apply_filter_to_torque_feedback_df(train_df, fir_coeffs, filter_velocity=FILTER_VELOCITY)\n",
    "    val_df = filter.apply_filter_to_torque_feedback_df(val_df, fir_coeffs, filter_velocity=FILTER_VELOCITY)\n",
    "    test_df = filter.apply_filter_to_torque_feedback_df(test_df, fir_coeffs, filter_velocity=FILTER_VELOCITY)\n",
    "\n",
    "    print(\"FILTERED\")"
   ]
  },
  {
   "cell_type": "markdown",
   "id": "88050431",
   "metadata": {},
   "source": [
    "## Downsample\n"
   ]
  },
  {
   "cell_type": "code",
   "execution_count": 36,
   "id": "7cd87252",
   "metadata": {},
   "outputs": [],
   "source": [
    "from downsample import downsample_dataframe\n",
    "\n",
    "if (DOWNSAMPLE == True):\n",
    "    train_df = downsample_dataframe(train_df, ORIGINAL_FREQ, DOWNSAMPLE_FREQ, DOWNSAMPLE_MOVING_AVERAGE)\n",
    "    val_df = downsample_dataframe(val_df, ORIGINAL_FREQ, DOWNSAMPLE_FREQ, DOWNSAMPLE_MOVING_AVERAGE)\n",
    "    test_df = downsample_dataframe(test_df, ORIGINAL_FREQ, DOWNSAMPLE_FREQ, DOWNSAMPLE_MOVING_AVERAGE)\n"
   ]
  },
  {
   "cell_type": "code",
   "execution_count": null,
   "id": "629e9521",
   "metadata": {},
   "outputs": [],
   "source": []
  },
  {
   "cell_type": "markdown",
   "id": "5775ab5e",
   "metadata": {},
   "source": [
    "## SAVE TO CSV"
   ]
  },
  {
   "cell_type": "code",
   "execution_count": 37,
   "id": "dcb06e62",
   "metadata": {},
   "outputs": [
    {
     "ename": "KeyboardInterrupt",
     "evalue": "",
     "output_type": "error",
     "traceback": [
      "\u001b[31m---------------------------------------------------------------------------\u001b[39m",
      "\u001b[31mKeyboardInterrupt\u001b[39m                         Traceback (most recent call last)",
      "\u001b[36mCell\u001b[39m\u001b[36m \u001b[39m\u001b[32mIn[37]\u001b[39m\u001b[32m, line 1\u001b[39m\n\u001b[32m----> \u001b[39m\u001b[32m1\u001b[39m \u001b[43mtrain_df\u001b[49m\u001b[43m.\u001b[49m\u001b[43mto_csv\u001b[49m\u001b[43m(\u001b[49m\u001b[43mtrain_file\u001b[49m\u001b[43m,\u001b[49m\u001b[43m \u001b[49m\u001b[43mindex\u001b[49m\u001b[43m=\u001b[49m\u001b[38;5;28;43;01mFalse\u001b[39;49;00m\u001b[43m,\u001b[49m\u001b[43m \u001b[49m\u001b[43mheader\u001b[49m\u001b[43m=\u001b[49m\u001b[38;5;28;43;01mFalse\u001b[39;49;00m\u001b[43m)\u001b[49m\n\u001b[32m      2\u001b[39m val_df.to_csv(val_file, index=\u001b[38;5;28;01mFalse\u001b[39;00m, header=\u001b[38;5;28;01mFalse\u001b[39;00m)\n\u001b[32m      3\u001b[39m test_df.to_csv(test_file, index=\u001b[38;5;28;01mFalse\u001b[39;00m, header=\u001b[38;5;28;01mFalse\u001b[39;00m)\n",
      "\u001b[36mFile \u001b[39m\u001b[32m~/.venv/lib/python3.12/site-packages/pandas/util/_decorators.py:333\u001b[39m, in \u001b[36mdeprecate_nonkeyword_arguments.<locals>.decorate.<locals>.wrapper\u001b[39m\u001b[34m(*args, **kwargs)\u001b[39m\n\u001b[32m    327\u001b[39m \u001b[38;5;28;01mif\u001b[39;00m \u001b[38;5;28mlen\u001b[39m(args) > num_allow_args:\n\u001b[32m    328\u001b[39m     warnings.warn(\n\u001b[32m    329\u001b[39m         msg.format(arguments=_format_argument_list(allow_args)),\n\u001b[32m    330\u001b[39m         \u001b[38;5;167;01mFutureWarning\u001b[39;00m,\n\u001b[32m    331\u001b[39m         stacklevel=find_stack_level(),\n\u001b[32m    332\u001b[39m     )\n\u001b[32m--> \u001b[39m\u001b[32m333\u001b[39m \u001b[38;5;28;01mreturn\u001b[39;00m \u001b[43mfunc\u001b[49m\u001b[43m(\u001b[49m\u001b[43m*\u001b[49m\u001b[43margs\u001b[49m\u001b[43m,\u001b[49m\u001b[43m \u001b[49m\u001b[43m*\u001b[49m\u001b[43m*\u001b[49m\u001b[43mkwargs\u001b[49m\u001b[43m)\u001b[49m\n",
      "\u001b[36mFile \u001b[39m\u001b[32m~/.venv/lib/python3.12/site-packages/pandas/core/generic.py:3986\u001b[39m, in \u001b[36mNDFrame.to_csv\u001b[39m\u001b[34m(self, path_or_buf, sep, na_rep, float_format, columns, header, index, index_label, mode, encoding, compression, quoting, quotechar, lineterminator, chunksize, date_format, doublequote, escapechar, decimal, errors, storage_options)\u001b[39m\n\u001b[32m   3975\u001b[39m df = \u001b[38;5;28mself\u001b[39m \u001b[38;5;28;01mif\u001b[39;00m \u001b[38;5;28misinstance\u001b[39m(\u001b[38;5;28mself\u001b[39m, ABCDataFrame) \u001b[38;5;28;01melse\u001b[39;00m \u001b[38;5;28mself\u001b[39m.to_frame()\n\u001b[32m   3977\u001b[39m formatter = DataFrameFormatter(\n\u001b[32m   3978\u001b[39m     frame=df,\n\u001b[32m   3979\u001b[39m     header=header,\n\u001b[32m   (...)\u001b[39m\u001b[32m   3983\u001b[39m     decimal=decimal,\n\u001b[32m   3984\u001b[39m )\n\u001b[32m-> \u001b[39m\u001b[32m3986\u001b[39m \u001b[38;5;28;01mreturn\u001b[39;00m \u001b[43mDataFrameRenderer\u001b[49m\u001b[43m(\u001b[49m\u001b[43mformatter\u001b[49m\u001b[43m)\u001b[49m\u001b[43m.\u001b[49m\u001b[43mto_csv\u001b[49m\u001b[43m(\u001b[49m\n\u001b[32m   3987\u001b[39m \u001b[43m    \u001b[49m\u001b[43mpath_or_buf\u001b[49m\u001b[43m,\u001b[49m\n\u001b[32m   3988\u001b[39m \u001b[43m    \u001b[49m\u001b[43mlineterminator\u001b[49m\u001b[43m=\u001b[49m\u001b[43mlineterminator\u001b[49m\u001b[43m,\u001b[49m\n\u001b[32m   3989\u001b[39m \u001b[43m    \u001b[49m\u001b[43msep\u001b[49m\u001b[43m=\u001b[49m\u001b[43msep\u001b[49m\u001b[43m,\u001b[49m\n\u001b[32m   3990\u001b[39m \u001b[43m    \u001b[49m\u001b[43mencoding\u001b[49m\u001b[43m=\u001b[49m\u001b[43mencoding\u001b[49m\u001b[43m,\u001b[49m\n\u001b[32m   3991\u001b[39m \u001b[43m    \u001b[49m\u001b[43merrors\u001b[49m\u001b[43m=\u001b[49m\u001b[43merrors\u001b[49m\u001b[43m,\u001b[49m\n\u001b[32m   3992\u001b[39m \u001b[43m    \u001b[49m\u001b[43mcompression\u001b[49m\u001b[43m=\u001b[49m\u001b[43mcompression\u001b[49m\u001b[43m,\u001b[49m\n\u001b[32m   3993\u001b[39m \u001b[43m    \u001b[49m\u001b[43mquoting\u001b[49m\u001b[43m=\u001b[49m\u001b[43mquoting\u001b[49m\u001b[43m,\u001b[49m\n\u001b[32m   3994\u001b[39m \u001b[43m    \u001b[49m\u001b[43mcolumns\u001b[49m\u001b[43m=\u001b[49m\u001b[43mcolumns\u001b[49m\u001b[43m,\u001b[49m\n\u001b[32m   3995\u001b[39m \u001b[43m    \u001b[49m\u001b[43mindex_label\u001b[49m\u001b[43m=\u001b[49m\u001b[43mindex_label\u001b[49m\u001b[43m,\u001b[49m\n\u001b[32m   3996\u001b[39m \u001b[43m    \u001b[49m\u001b[43mmode\u001b[49m\u001b[43m=\u001b[49m\u001b[43mmode\u001b[49m\u001b[43m,\u001b[49m\n\u001b[32m   3997\u001b[39m \u001b[43m    \u001b[49m\u001b[43mchunksize\u001b[49m\u001b[43m=\u001b[49m\u001b[43mchunksize\u001b[49m\u001b[43m,\u001b[49m\n\u001b[32m   3998\u001b[39m \u001b[43m    \u001b[49m\u001b[43mquotechar\u001b[49m\u001b[43m=\u001b[49m\u001b[43mquotechar\u001b[49m\u001b[43m,\u001b[49m\n\u001b[32m   3999\u001b[39m \u001b[43m    \u001b[49m\u001b[43mdate_format\u001b[49m\u001b[43m=\u001b[49m\u001b[43mdate_format\u001b[49m\u001b[43m,\u001b[49m\n\u001b[32m   4000\u001b[39m \u001b[43m    \u001b[49m\u001b[43mdoublequote\u001b[49m\u001b[43m=\u001b[49m\u001b[43mdoublequote\u001b[49m\u001b[43m,\u001b[49m\n\u001b[32m   4001\u001b[39m \u001b[43m    \u001b[49m\u001b[43mescapechar\u001b[49m\u001b[43m=\u001b[49m\u001b[43mescapechar\u001b[49m\u001b[43m,\u001b[49m\n\u001b[32m   4002\u001b[39m \u001b[43m    \u001b[49m\u001b[43mstorage_options\u001b[49m\u001b[43m=\u001b[49m\u001b[43mstorage_options\u001b[49m\u001b[43m,\u001b[49m\n\u001b[32m   4003\u001b[39m \u001b[43m\u001b[49m\u001b[43m)\u001b[49m\n",
      "\u001b[36mFile \u001b[39m\u001b[32m~/.venv/lib/python3.12/site-packages/pandas/io/formats/format.py:1014\u001b[39m, in \u001b[36mDataFrameRenderer.to_csv\u001b[39m\u001b[34m(self, path_or_buf, encoding, sep, columns, index_label, mode, compression, quoting, quotechar, lineterminator, chunksize, date_format, doublequote, escapechar, errors, storage_options)\u001b[39m\n\u001b[32m    993\u001b[39m     created_buffer = \u001b[38;5;28;01mFalse\u001b[39;00m\n\u001b[32m    995\u001b[39m csv_formatter = CSVFormatter(\n\u001b[32m    996\u001b[39m     path_or_buf=path_or_buf,\n\u001b[32m    997\u001b[39m     lineterminator=lineterminator,\n\u001b[32m   (...)\u001b[39m\u001b[32m   1012\u001b[39m     formatter=\u001b[38;5;28mself\u001b[39m.fmt,\n\u001b[32m   1013\u001b[39m )\n\u001b[32m-> \u001b[39m\u001b[32m1014\u001b[39m \u001b[43mcsv_formatter\u001b[49m\u001b[43m.\u001b[49m\u001b[43msave\u001b[49m\u001b[43m(\u001b[49m\u001b[43m)\u001b[49m\n\u001b[32m   1016\u001b[39m \u001b[38;5;28;01mif\u001b[39;00m created_buffer:\n\u001b[32m   1017\u001b[39m     \u001b[38;5;28;01massert\u001b[39;00m \u001b[38;5;28misinstance\u001b[39m(path_or_buf, StringIO)\n",
      "\u001b[36mFile \u001b[39m\u001b[32m~/.venv/lib/python3.12/site-packages/pandas/io/formats/csvs.py:270\u001b[39m, in \u001b[36mCSVFormatter.save\u001b[39m\u001b[34m(self)\u001b[39m\n\u001b[32m    251\u001b[39m \u001b[38;5;28;01mwith\u001b[39;00m get_handle(\n\u001b[32m    252\u001b[39m     \u001b[38;5;28mself\u001b[39m.filepath_or_buffer,\n\u001b[32m    253\u001b[39m     \u001b[38;5;28mself\u001b[39m.mode,\n\u001b[32m   (...)\u001b[39m\u001b[32m    258\u001b[39m ) \u001b[38;5;28;01mas\u001b[39;00m handles:\n\u001b[32m    259\u001b[39m     \u001b[38;5;66;03m# Note: self.encoding is irrelevant here\u001b[39;00m\n\u001b[32m    260\u001b[39m     \u001b[38;5;28mself\u001b[39m.writer = csvlib.writer(\n\u001b[32m    261\u001b[39m         handles.handle,\n\u001b[32m    262\u001b[39m         lineterminator=\u001b[38;5;28mself\u001b[39m.lineterminator,\n\u001b[32m   (...)\u001b[39m\u001b[32m    267\u001b[39m         quotechar=\u001b[38;5;28mself\u001b[39m.quotechar,\n\u001b[32m    268\u001b[39m     )\n\u001b[32m--> \u001b[39m\u001b[32m270\u001b[39m     \u001b[38;5;28;43mself\u001b[39;49m\u001b[43m.\u001b[49m\u001b[43m_save\u001b[49m\u001b[43m(\u001b[49m\u001b[43m)\u001b[49m\n",
      "\u001b[36mFile \u001b[39m\u001b[32m~/.venv/lib/python3.12/site-packages/pandas/io/formats/csvs.py:275\u001b[39m, in \u001b[36mCSVFormatter._save\u001b[39m\u001b[34m(self)\u001b[39m\n\u001b[32m    273\u001b[39m \u001b[38;5;28;01mif\u001b[39;00m \u001b[38;5;28mself\u001b[39m._need_to_save_header:\n\u001b[32m    274\u001b[39m     \u001b[38;5;28mself\u001b[39m._save_header()\n\u001b[32m--> \u001b[39m\u001b[32m275\u001b[39m \u001b[38;5;28;43mself\u001b[39;49m\u001b[43m.\u001b[49m\u001b[43m_save_body\u001b[49m\u001b[43m(\u001b[49m\u001b[43m)\u001b[49m\n",
      "\u001b[36mFile \u001b[39m\u001b[32m~/.venv/lib/python3.12/site-packages/pandas/io/formats/csvs.py:313\u001b[39m, in \u001b[36mCSVFormatter._save_body\u001b[39m\u001b[34m(self)\u001b[39m\n\u001b[32m    311\u001b[39m \u001b[38;5;28;01mif\u001b[39;00m start_i >= end_i:\n\u001b[32m    312\u001b[39m     \u001b[38;5;28;01mbreak\u001b[39;00m\n\u001b[32m--> \u001b[39m\u001b[32m313\u001b[39m \u001b[38;5;28;43mself\u001b[39;49m\u001b[43m.\u001b[49m\u001b[43m_save_chunk\u001b[49m\u001b[43m(\u001b[49m\u001b[43mstart_i\u001b[49m\u001b[43m,\u001b[49m\u001b[43m \u001b[49m\u001b[43mend_i\u001b[49m\u001b[43m)\u001b[49m\n",
      "\u001b[36mFile \u001b[39m\u001b[32m~/.venv/lib/python3.12/site-packages/pandas/io/formats/csvs.py:324\u001b[39m, in \u001b[36mCSVFormatter._save_chunk\u001b[39m\u001b[34m(self, start_i, end_i)\u001b[39m\n\u001b[32m    321\u001b[39m data = \u001b[38;5;28mlist\u001b[39m(res._iter_column_arrays())\n\u001b[32m    323\u001b[39m ix = \u001b[38;5;28mself\u001b[39m.data_index[slicer]._get_values_for_csv(**\u001b[38;5;28mself\u001b[39m._number_format)\n\u001b[32m--> \u001b[39m\u001b[32m324\u001b[39m \u001b[43mlibwriters\u001b[49m\u001b[43m.\u001b[49m\u001b[43mwrite_csv_rows\u001b[49m\u001b[43m(\u001b[49m\n\u001b[32m    325\u001b[39m \u001b[43m    \u001b[49m\u001b[43mdata\u001b[49m\u001b[43m,\u001b[49m\n\u001b[32m    326\u001b[39m \u001b[43m    \u001b[49m\u001b[43mix\u001b[49m\u001b[43m,\u001b[49m\n\u001b[32m    327\u001b[39m \u001b[43m    \u001b[49m\u001b[38;5;28;43mself\u001b[39;49m\u001b[43m.\u001b[49m\u001b[43mnlevels\u001b[49m\u001b[43m,\u001b[49m\n\u001b[32m    328\u001b[39m \u001b[43m    \u001b[49m\u001b[38;5;28;43mself\u001b[39;49m\u001b[43m.\u001b[49m\u001b[43mcols\u001b[49m\u001b[43m,\u001b[49m\n\u001b[32m    329\u001b[39m \u001b[43m    \u001b[49m\u001b[38;5;28;43mself\u001b[39;49m\u001b[43m.\u001b[49m\u001b[43mwriter\u001b[49m\u001b[43m,\u001b[49m\n\u001b[32m    330\u001b[39m \u001b[43m\u001b[49m\u001b[43m)\u001b[49m\n",
      "\u001b[36mFile \u001b[39m\u001b[32mpandas/_libs/writers.pyx:73\u001b[39m, in \u001b[36mpandas._libs.writers.write_csv_rows\u001b[39m\u001b[34m()\u001b[39m\n",
      "\u001b[31mKeyboardInterrupt\u001b[39m: "
     ]
    }
   ],
   "source": [
    "train_df.to_csv(train_file, index=False, header=False)\n",
    "val_df.to_csv(val_file, index=False, header=False)\n",
    "test_df.to_csv(test_file, index=False, header=False)"
   ]
  }
 ],
 "metadata": {
  "kernelspec": {
   "display_name": ".venv",
   "language": "python",
   "name": "python3"
  },
  "language_info": {
   "codemirror_mode": {
    "name": "ipython",
    "version": 3
   },
   "file_extension": ".py",
   "mimetype": "text/x-python",
   "name": "python",
   "nbconvert_exporter": "python",
   "pygments_lexer": "ipython3",
   "version": "3.12.3"
  }
 },
 "nbformat": 4,
 "nbformat_minor": 5
}
