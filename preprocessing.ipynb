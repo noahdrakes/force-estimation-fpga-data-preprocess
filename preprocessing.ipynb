{
 "cells": [
  {
   "cell_type": "markdown",
   "id": "adcc2ae9",
   "metadata": {},
   "source": [
    "# Specify Paths "
   ]
  },
  {
   "cell_type": "code",
   "execution_count": null,
   "id": "f7e6491c",
   "metadata": {},
   "outputs": [],
   "source": [
    "\n",
    "fpga_v3_data_collection_path = \"/Users/noahdrakes/Documents/research/fpgav3-data-collection/\" # SET THIS ONCE\n",
    "preproces_path = \"/Users/noahdrakes/Documents/research/dvrk-force-estimation/fpga-dc-lstm-preprocessing\" # SET THIS ONCE\n",
    "\n",
    "true_preprocess_path = \"~/force_estimation/preprocess/\"\n",
    "\n",
    "\n",
    "unit_convert_path = fpga_v3_data_collection_path + \"unit_convert/unit_convert.py\"\n",
    "si_unit_json_path = fpga_v3_data_collection_path + \"unit_convert/sawRobotIO1394-PSM1-334809.xml.json\"\n",
    "unit_convert_cmd = \"python3 \" + unit_convert_path + \" -c \" + si_unit_json_path + \" -f \" \n",
    "\n",
    "train_name_path_csv = \"/Users/noahdrakes/Documents/research/dvrk-force-estimation/fpga-dc-lstm-preprocessing/data/capture_8-11-25/train.csv\" # SET THIS\n",
    "val_test_name_path_csv = \"/Users/noahdrakes/Documents/research/dvrk-force-estimation/fpga-dc-lstm-preprocessing/data/capture_8-11-25/val.csv\" # SET THIS\n",
    "\n",
    "\n",
    "train_name_path_unit_convert_csv = \"/Users/noahdrakes/Documents/research/dvrk-force-estimation/fpga-dc-lstm-preprocessing/data/capture_8-11-25/train_unitConvert.csv\" # SET THIS\n",
    "val_ttest_name_path_unit_convert_csv = \"/Users/noahdrakes/Documents/research/dvrk-force-estimation/fpga-dc-lstm-preprocessing/data/capture_8-11-25/val_unitConvert.csv\" # SET THIS\n",
    "\n",
    "path_to_data_foleder = \"/Users/noahdrakes/Documents/research/dvrk-force-estimation/fpga-dc-lstm-preprocessing/data/capture_8-11-25\"\n",
    "new_preprocessed_data_folder = \"/preprocessed\"\n",
    "\n",
    "unit_convert_train_cmd = unit_convert_cmd + train_name_path_csv\n",
    "unit_convert_val_test_cmd = unit_convert_cmd + val_test_name_path_csv\n",
    "\n",
    "ORIGINAL_FREQ = 5000\n",
    "\n",
    "CUTOFF = True\n",
    "CUTOFF_SECS = 20\n",
    "\n",
    "if CUTOFF == True:\n",
    "    new_preprocessed_data_folder += \"_CUTOFF_\" + str(CUTOFF_SECS)\n",
    "\n",
    "INTERPOLATE = True\n",
    "\n",
    "if INTERPOLATE == True:\n",
    "    new_preprocessed_data_folder += \"_INTERPOLATE\" \n",
    "\n",
    "\n",
    "FILTER = False\n",
    "FILTER_FREQ = 100\n",
    "FILTER_VELOCITY = True\n",
    "\n",
    "if FILTER == True:\n",
    "    new_preprocessed_data_folder += \"_FILTER_\" + str(FILTER_FREQ)\n",
    "\n",
    "DOWNSAMPLE = False\n",
    "DOWNSAMPLE_FREQ = 1000\n",
    "DOWNSAMPLE_MOVING_AVERAGE = True\n",
    "\n",
    "if DOWNSAMPLE == True:\n",
    "    new_preprocessed_data_folder += \"_DOWNSAMPLE_\" + str(DOWNSAMPLE_FREQ)\n",
    "\n"
   ]
  },
  {
   "cell_type": "markdown",
   "id": "69b8c10f",
   "metadata": {},
   "source": [
    "## paths for high freq preprocessing"
   ]
  },
  {
   "cell_type": "code",
   "execution_count": null,
   "id": "f171ae90",
   "metadata": {},
   "outputs": [
    {
     "name": "stdout",
     "output_type": "stream",
     "text": [
      "python3 /Users/noahdrakes/Documents/research/dvrk-force-estimation/fpga-dc-lstm-preprocessing/preprocessing.py /Users/noahdrakes/Documents/research/dvrk-force-estimation/fpga-dc-lstm-preprocessing/data/capture_8-11-25/train_unitConvert.csv\n"
     ]
    }
   ],
   "source": [
    "\n",
    "preprocessing_script_path = preproces_path + \"/preprocessing.py\"\n",
    "split_val_test_path = preproces_path + \"/split_val_test.py\"\n",
    "\n",
    "preprocessing_train_cmd = \"python3 \" + preprocessing_script_path + \" \" + train_name_path_unit_convert_csv\n",
    "preprocessing_val_test_cmd =\"python3 \" + preprocessing_script_path + \" \" + val_ttest_name_path_unit_convert_csv\n",
    "\n",
    "print(preprocessing_train_cmd)"
   ]
  },
  {
   "cell_type": "code",
   "execution_count": 17,
   "id": "396a69fe",
   "metadata": {},
   "outputs": [
    {
     "data": {
      "text/plain": [
       "CompletedProcess(args='mkdir -p /Users/noahdrakes/Documents/research/dvrk-force-estimation/fpga-dc-lstm-preprocessing/data/capture_8-11-25/preprocessed_CUTOFF_20_INTERPOLATE/train/joints/ /Users/noahdrakes/Documents/research/dvrk-force-estimation/fpga-dc-lstm-preprocessing/data/capture_8-11-25/preprocessed_CUTOFF_20_INTERPOLATE/val/joints/ /Users/noahdrakes/Documents/research/dvrk-force-estimation/fpga-dc-lstm-preprocessing/data/capture_8-11-25/preprocessed_CUTOFF_20_INTERPOLATE/test/joints', returncode=0)"
      ]
     },
     "execution_count": 17,
     "metadata": {},
     "output_type": "execute_result"
    }
   ],
   "source": [
    "## making preprocessed data dir \n",
    "import subprocess\n",
    "\n",
    "new_dir = path_to_data_foleder + new_preprocessed_data_folder\n",
    "train_sub = new_dir + \"/train/joints/\"\n",
    "val_sub = new_dir + \"/val/joints/\"\n",
    "test_sub = new_dir + \"/test/joints\"\n",
    "mk_new_dir_cmd = \"mkdir -p \" + train_sub + \" \" + val_sub + \" \" + test_sub\n",
    "\n",
    "subprocess.run(mk_new_dir_cmd, shell=True)"
   ]
  },
  {
   "cell_type": "markdown",
   "id": "08215924",
   "metadata": {},
   "source": [
    "# Unit Conversion to SI units"
   ]
  },
  {
   "cell_type": "code",
   "execution_count": 18,
   "id": "994e35a5",
   "metadata": {},
   "outputs": [
    {
     "name": "stdout",
     "output_type": "stream",
     "text": [
      "Data written to /Users/noahdrakes/Documents/research/dvrk-force-estimation/fpga-dc-lstm-preprocessing/data/capture_8-11-25/val_unitConvert.csv\n",
      "Data written to /Users/noahdrakes/Documents/research/dvrk-force-estimation/fpga-dc-lstm-preprocessing/data/capture_8-11-25/train_unitConvert.csv\n"
     ]
    },
    {
     "data": {
      "text/plain": [
       "CompletedProcess(args='python3 /Users/noahdrakes/Documents/research/fpgav3-data-collection/unit_convert/unit_convert.py -c /Users/noahdrakes/Documents/research/fpgav3-data-collection/unit_convert/sawRobotIO1394-PSM1-334809.xml.json -f /Users/noahdrakes/Documents/research/dvrk-force-estimation/fpga-dc-lstm-preprocessing/data/capture_8-11-25/train.csv', returncode=0)"
      ]
     },
     "execution_count": 18,
     "metadata": {},
     "output_type": "execute_result"
    }
   ],
   "source": [
    "\n",
    "subprocess.run(unit_convert_val_test_cmd, shell=True)\n",
    "subprocess.run(unit_convert_train_cmd, shell=True)"
   ]
  },
  {
   "cell_type": "markdown",
   "id": "af5af789",
   "metadata": {},
   "source": []
  },
  {
   "cell_type": "markdown",
   "id": "f56adaee",
   "metadata": {},
   "source": [
    "# High Freq Preprocessing"
   ]
  },
  {
   "cell_type": "code",
   "execution_count": 19,
   "id": "ea2b2676",
   "metadata": {},
   "outputs": [
    {
     "name": "stdout",
     "output_type": "stream",
     "text": [
      "finished preprocessing train \n",
      "finished moving train\n",
      "preprocess split and val\n",
      "Validation set saved to val.csv 476742 rows\n",
      "Test set saved to test.csv 476743 rows\n",
      "split into val and test\n"
     ]
    },
    {
     "data": {
      "text/plain": [
       "CompletedProcess(args='mv /Users/noahdrakes/Documents/research/dvrk-force-estimation/fpga-dc-lstm-preprocessing/data/capture_8-11-25/preprocessed_CUTOFF_20_INTERPOLATE/test/joints/test.csv /Users/noahdrakes/Documents/research/dvrk-force-estimation/fpga-dc-lstm-preprocessing/data/capture_8-11-25/preprocessed_CUTOFF_20_INTERPOLATE/test/joints/interpolated_all_joints.csv', returncode=0)"
      ]
     },
     "execution_count": 19,
     "metadata": {},
     "output_type": "execute_result"
    }
   ],
   "source": [
    "## interpolate train and place it in correct directory\n",
    "##train\n",
    "subprocess.run(preprocessing_train_cmd, shell=True)\n",
    "print(\"finished preprocessing train \")\n",
    "interpolated_all_joints_path = preproces_path + \"/interpolated_all_joints.csv\"\n",
    "mv_train_interpolated_cmd = \"mv \" + interpolated_all_joints_path + \" \" + train_sub\n",
    "subprocess.run(mv_train_interpolated_cmd, shell=True)\n",
    "print(\"finished moving train\")\n",
    "\n",
    "## val test\n",
    "subprocess.run(preprocessing_val_test_cmd, shell=True)\n",
    "print(\"preprocess split and val\")\n",
    "\n",
    "# # split\n",
    "split_val_test_cmd = \"python3 \" + preproces_path + \"/split_val_test.py \" + interpolated_all_joints_path\n",
    "subprocess.run(split_val_test_cmd, shell=True)\n",
    "print(\"split into val and test\")\n",
    "#interpolate val test and split into val and test\n",
    "val_path = val_sub\n",
    "mv_val_cmd = \"mv \" + preproces_path + \"/val.csv \" + val_path\n",
    "subprocess.run(mv_val_cmd, shell=True)\n",
    "change_val_interpolated_cmd = \"mv \" + val_path + \"/val.csv \" + val_path + \"/interpolated_all_joints.csv\"\n",
    "subprocess.run(change_val_interpolated_cmd, shell=True)\n",
    "\n",
    "test_path = test_sub\n",
    "mv_test_cmd = \"mv \" + preproces_path + \"/test.csv \" + test_path\n",
    "subprocess.run(mv_test_cmd, shell=True)\n",
    "change_test_interpolated_cmd = \"mv \" + test_path + \"/test.csv \" + test_path + \"/interpolated_all_joints.csv\"\n",
    "subprocess.run(change_test_interpolated_cmd, shell=True)"
   ]
  },
  {
   "cell_type": "markdown",
   "id": "dfb66830",
   "metadata": {},
   "source": [
    "## Preprocessed Training File Paths"
   ]
  },
  {
   "cell_type": "code",
   "execution_count": 20,
   "id": "c4b6589e",
   "metadata": {},
   "outputs": [],
   "source": [
    "import os\n",
    "import pandas as pd\n",
    "\n",
    "train_file = os.path.join(train_sub, \"interpolated_all_joints.csv\")\n",
    "val_file = os.path.join(val_sub, \"interpolated_all_joints.csv\")\n",
    "test_file = os.path.join(test_sub, \"interpolated_all_joints.csv\")\n",
    "\n",
    "train_df = pd.read_csv(train_file, header=None)\n",
    "val_df =  pd.read_csv(val_file, header=None)\n",
    "test_df = pd.read_csv(test_file, header=None)"
   ]
  },
  {
   "cell_type": "markdown",
   "id": "d1d9cd0e",
   "metadata": {},
   "source": [
    "## Cutoff\n"
   ]
  },
  {
   "cell_type": "code",
   "execution_count": null,
   "id": "341b5c94",
   "metadata": {},
   "outputs": [
    {
     "name": "stdout",
     "output_type": "stream",
     "text": [
      "total rows:  3071172\n"
     ]
    }
   ],
   "source": [
    "from cutoff import truncate_dataframe\n",
    "\n",
    "\n",
    "if (CUTOFF == True):\n",
    "    ## TRAIN\n",
    "    FREQ =  ORIGINAL_FREQ if DOWNSAMPLE == False else DOWNSAMPLE_FREQ\n",
    "    ## TRAIN\n",
    "    train_df = truncate_dataframe(train_df, CUTOFF_SECS, FREQ)\n",
    "    val_df = truncate_dataframe(val_df, CUTOFF_SECS, FREQ)\n",
    "    test_df = truncate_dataframe(test_df, CUTOFF_SECS, FREQ)"
   ]
  },
  {
   "cell_type": "markdown",
   "id": "2a12826e",
   "metadata": {},
   "source": [
    "## Interpolate"
   ]
  },
  {
   "cell_type": "code",
   "execution_count": 22,
   "id": "dbe65246",
   "metadata": {},
   "outputs": [
    {
     "ename": "ModuleNotFoundError",
     "evalue": "No module named 'scipy'",
     "output_type": "error",
     "traceback": [
      "\u001b[31m---------------------------------------------------------------------------\u001b[39m",
      "\u001b[31mModuleNotFoundError\u001b[39m                       Traceback (most recent call last)",
      "\u001b[36mCell\u001b[39m\u001b[36m \u001b[39m\u001b[32mIn[22]\u001b[39m\u001b[32m, line 1\u001b[39m\n\u001b[32m----> \u001b[39m\u001b[32m1\u001b[39m \u001b[38;5;28;01mfrom\u001b[39;00m\u001b[38;5;250m \u001b[39m\u001b[34;01minterpolate_timestamps\u001b[39;00m\u001b[38;5;250m \u001b[39m\u001b[38;5;28;01mimport\u001b[39;00m interpolate_dataframe_to_sample_rate\n\u001b[32m      3\u001b[39m \u001b[38;5;28;01mif\u001b[39;00m (INTERPOLATE == \u001b[38;5;28;01mTrue\u001b[39;00m):\n\u001b[32m      5\u001b[39m     train_df = interpolate_dataframe_to_sample_rate(train_df, ORIGINAL_FREQ)\n",
      "\u001b[36mFile \u001b[39m\u001b[32m~/Documents/research/dvrk-force-estimation/fpga-dc-lstm-preprocessing/interpolate_timestamps.py:2\u001b[39m\n\u001b[32m      1\u001b[39m \u001b[38;5;28;01mimport\u001b[39;00m\u001b[38;5;250m \u001b[39m\u001b[34;01mnumpy\u001b[39;00m\u001b[38;5;250m \u001b[39m\u001b[38;5;28;01mas\u001b[39;00m\u001b[38;5;250m \u001b[39m\u001b[34;01mnp\u001b[39;00m\n\u001b[32m----> \u001b[39m\u001b[32m2\u001b[39m \u001b[38;5;28;01mfrom\u001b[39;00m\u001b[38;5;250m \u001b[39m\u001b[34;01mscipy\u001b[39;00m\u001b[34;01m.\u001b[39;00m\u001b[34;01minterpolate\u001b[39;00m\u001b[38;5;250m \u001b[39m\u001b[38;5;28;01mimport\u001b[39;00m interp1d\n\u001b[32m      3\u001b[39m \u001b[38;5;28;01mimport\u001b[39;00m\u001b[38;5;250m \u001b[39m\u001b[34;01mpandas\u001b[39;00m\u001b[38;5;250m \u001b[39m\u001b[38;5;28;01mas\u001b[39;00m\u001b[38;5;250m \u001b[39m\u001b[34;01mpd\u001b[39;00m\n\u001b[32m      4\u001b[39m \u001b[38;5;28;01mimport\u001b[39;00m\u001b[38;5;250m \u001b[39m\u001b[34;01margparse\u001b[39;00m\n",
      "\u001b[31mModuleNotFoundError\u001b[39m: No module named 'scipy'"
     ]
    }
   ],
   "source": [
    "from interpolate_timestamps import interpolate_dataframe_to_sample_rate\n",
    "\n",
    "if (INTERPOLATE == True):\n",
    "    \n",
    "    train_df = interpolate_dataframe_to_sample_rate(train_df, ORIGINAL_FREQ)\n",
    "    val_df = interpolate_dataframe_to_sample_rate(val_df, ORIGINAL_FREQ)\n",
    "    test_df = interpolate_dataframe_to_sample_rate(test_df, ORIGINAL_FREQ)\n"
   ]
  },
  {
   "cell_type": "markdown",
   "id": "04a4e826",
   "metadata": {},
   "source": [
    "## FIR Filtering"
   ]
  },
  {
   "cell_type": "code",
   "execution_count": null,
   "id": "147b1306",
   "metadata": {},
   "outputs": [],
   "source": [
    "import importlib\n",
    "import filter  # regular import first\n",
    "importlib.reload(filter)\n",
    "\n",
    "\n",
    "\n",
    "if (FILTER == True):\n",
    "    # Design filter\n",
    "    fir_coeffs = filter.design_fir_filter(filter_type='kaiser', fs=ORIGINAL_FREQ, fC=FILTER_FREQ, order=30)\n",
    "\n",
    "    # Apply to train/val/test CSVs\n",
    "    train_df = filter.apply_filter_to_torque_feedback_df(train_df, fir_coeffs, filter_velocity=FILTER_VELOCITY)\n",
    "    val_df = filter.apply_filter_to_torque_feedback_df(val_df, fir_coeffs, filter_velocity=FILTER_VELOCITY)\n",
    "    test_df = filter.apply_filter_to_torque_feedback_df(test_df, fir_coeffs, filter_velocity=FILTER_VELOCITY)"
   ]
  },
  {
   "cell_type": "markdown",
   "id": "88050431",
   "metadata": {},
   "source": [
    "## Downsample\n"
   ]
  },
  {
   "cell_type": "code",
   "execution_count": null,
   "id": "7cd87252",
   "metadata": {},
   "outputs": [],
   "source": [
    "from downsample import downsample_dataframe\n",
    "\n",
    "if (DOWNSAMPLE == True):\n",
    "    train_df = downsample_dataframe(train_df, ORIGINAL_FREQ, DOWNSAMPLE_FREQ, DOWNSAMPLE_MOVING_AVERAGE)\n",
    "    val_df = downsample_dataframe(val_df, ORIGINAL_FREQ, DOWNSAMPLE_FREQ, DOWNSAMPLE_MOVING_AVERAGE)\n",
    "    test_df = downsample_dataframe(test_df, ORIGINAL_FREQ, DOWNSAMPLE_FREQ, DOWNSAMPLE_MOVING_AVERAGE)\n"
   ]
  },
  {
   "cell_type": "code",
   "execution_count": null,
   "id": "629e9521",
   "metadata": {},
   "outputs": [],
   "source": []
  },
  {
   "cell_type": "markdown",
   "id": "5775ab5e",
   "metadata": {},
   "source": [
    "## SAVE TO CSV"
   ]
  },
  {
   "cell_type": "code",
   "execution_count": null,
   "id": "dcb06e62",
   "metadata": {},
   "outputs": [],
   "source": [
    "train_df.to_csv(train_file, index=False, header=False)\n",
    "val_df.to_csv(val_file, index=False, header=False)\n",
    "test_df.to_csv(test_file, index=False, header=False)"
   ]
  }
 ],
 "metadata": {
  "kernelspec": {
   "display_name": "fpga-dc-lstm-preprocessing",
   "language": "python",
   "name": "python3"
  },
  "language_info": {
   "codemirror_mode": {
    "name": "ipython",
    "version": 3
   },
   "file_extension": ".py",
   "mimetype": "text/x-python",
   "name": "python",
   "nbconvert_exporter": "python",
   "pygments_lexer": "ipython3",
   "version": "3.13.4"
  }
 },
 "nbformat": 4,
 "nbformat_minor": 5
}
