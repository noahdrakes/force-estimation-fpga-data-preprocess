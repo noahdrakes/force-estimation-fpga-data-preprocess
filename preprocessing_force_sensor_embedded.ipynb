{
 "cells": [
  {
   "cell_type": "markdown",
   "id": "adcc2ae9",
   "metadata": {},
   "source": [
    "# FORCE ESTIMATION PREPROCESSING"
   ]
  },
  {
   "cell_type": "markdown",
   "id": "c05bec0b",
   "metadata": {},
   "source": [
    "## Specify Paths and FLAGS"
   ]
  },
  {
   "cell_type": "code",
   "execution_count": 4,
   "id": "f7e6491c",
   "metadata": {},
   "outputs": [],
   "source": [
    "## TODO\n",
    "# - unit convert to do but raw embedded into SI units (Si Machine) - DONE\n",
    "# - jacobian preprocessing using interpolate jacobian (Si Machine) - DONE\n",
    "# - split embeded data into force sensor ground truth (Si Machine ) - DONE\n",
    "# - model prediction\n",
    "# - procesing rosbag data through simons repo dvrk_force_estimation repo (Si Machine )\n",
    "# - - rosbag reprocess (Si Machine)\n",
    "# - - preprocess script(interpolations) (Si Machine)\n",
    "\n",
    "\n",
    "# NOTES\n",
    "#   make sure you put the json converted files in the jhu-davinci folders  \n",
    "\n",
    "# file struture\n",
    "# ---------------\n",
    "# dataset_name \n",
    "# |__joints\n",
    "\n",
    "\n",
    "## EMBEDDED PATHS\n",
    "dataset_path = \"/home/ndrakes1/force_estimation_data_captures/capture_9-6-25/force_sensor_capture_6/\" # SET\n",
    "dataset_name = \"force_sensor_trial6\"\n",
    "\n",
    "fpga_v3_data_collection_path = \"/home/ndrakes1/fpgav3-data-collection\" # SET THIS ONCE\n",
    "preproces_path = \" \"  # should be this directory SET THIS ONCE\n",
    "\n",
    "true_preprocess_path = \"~/force_estimation/preprocess/\"\n",
    "\n",
    "\n",
    "unit_convert_script_py = fpga_v3_data_collection_path + \"/unit_convert/unit_convert.py\"\n",
    "si_unit_xml_path = \"/home/ndrakes1/catkin_ws/src/dvrk/dvrk_config_jhu/jhu-daVinci-Si/sawRobotIO1394-PSM3-698534.xml\" # SET THIS ONCE \n",
    "si_unit_json_path = \"/home/ndrakes1/catkin_ws/src/dvrk/dvrk_config_jhu/jhu-daVinci-Si/sawRobotIO1394-PSM1-292409.xml.json\"\n",
    "\n",
    "zynq_data_csv = \"/home/ndrakes1/force_estimation_data_captures/capture_9-6-25/force_sensor_capture_6/force_sensor_trial6.csv\" \n",
    "rosbag_data_bag = \"/home/ndrakes1/force_estimation_data_captures/capture_9-6-25/force_sensor_capture_6/force_sensor_trial6.bag\"\n",
    "\n",
    "unit_convert_path = dataset_path + \"/\" + dataset_name + \"_unitConvert.csv\"\n",
    "\n",
    "# unit_convert_cmd = \"python3 \" + unit_convert_path + \" -c \" + si_unit_json_path + \" -f \" \n",
    "\n",
    "\n",
    "# ROSBAG PATHS\n",
    "read_rosbag_script_py = \"/home/ndrakes1/dvrk_force_estimation/preprocess/read_ros_bags.py\"\n",
    "preprocess_rosbag_script_py = \"/home/ndrakes1/dvrk_force_estimation/preprocess/preprocess.py\"\n",
    "\n",
    "\n",
    "ORIGINAL_FREQ = 10000\n",
    "\n",
    "INTERPOLATE = True\n",
    "\n",
    "\n",
    "FILTER = True\n",
    "FILTER_FREQ = 200\n",
    "FILTER_VELOCITY = True\n",
    "\n",
    "DOWNSAMPLE = False\n",
    "DOWNSAMPLE_FREQ = 1000\n",
    "DOWNSAMPLE_MOVING_AVERAGE = True\n",
    "\n",
    "##################################################################################"
   ]
  },
  {
   "cell_type": "markdown",
   "id": "c84a61c0",
   "metadata": {},
   "source": [
    "# EMBEDDED"
   ]
  },
  {
   "cell_type": "code",
   "execution_count": 5,
   "id": "2816c965",
   "metadata": {},
   "outputs": [],
   "source": [
    "!. ~/catkin_ws/devel/setup.bash"
   ]
  },
  {
   "cell_type": "markdown",
   "id": "c0e63513",
   "metadata": {},
   "source": []
  },
  {
   "cell_type": "markdown",
   "id": "d9fdf5da",
   "metadata": {},
   "source": [
    "## Unit Convert"
   ]
  },
  {
   "cell_type": "code",
   "execution_count": 6,
   "id": "f04a5c43",
   "metadata": {},
   "outputs": [
    {
     "name": "stdout",
     "output_type": "stream",
     "text": [
      "Data written to /home/ndrakes1/force_estimation_data_captures/capture_9-6-25/force_sensor_capture_6/force_sensor_trial6_unitConvert.csv\n"
     ]
    }
   ],
   "source": [
    "!.venv/bin/python3 {unit_convert_script_py} -c {si_unit_json_path} -f {zynq_data_csv}"
   ]
  },
  {
   "cell_type": "markdown",
   "id": "44de9a1c",
   "metadata": {},
   "source": [
    "## Extract Force Sensor Data"
   ]
  },
  {
   "cell_type": "code",
   "execution_count": 7,
   "id": "0848897c",
   "metadata": {},
   "outputs": [
    {
     "name": "stdout",
     "output_type": "stream",
     "text": [
      "Saved SENSOR DATA CSV to /home/ndrakes1/force_estimation_data_captures/capture_9-6-25/force_sensor_capture_6//sensor/sensor.csv\n"
     ]
    }
   ],
   "source": [
    "!mkdir {dataset_path}/sensor\n",
    "!.venv/bin/python3 sensor_processing.py {zynq_data_csv} {dataset_path}/sensor/sensor.csv"
   ]
  },
  {
   "cell_type": "markdown",
   "id": "311edc56",
   "metadata": {},
   "source": [
    "## Extract Joint Data"
   ]
  },
  {
   "cell_type": "code",
   "execution_count": 8,
   "id": "b68f1d34",
   "metadata": {},
   "outputs": [],
   "source": [
    "!mkdir {dataset_path}joints\n",
    "!.venv/bin/python3 preprocessing.py {unit_convert_path} {dataset_path}joints/interpolated_all_joints.csv"
   ]
  },
  {
   "cell_type": "markdown",
   "id": "3efea023",
   "metadata": {},
   "source": [
    "## Filter Joint Data"
   ]
  },
  {
   "cell_type": "markdown",
   "id": "af5af789",
   "metadata": {},
   "source": []
  },
  {
   "cell_type": "markdown",
   "id": "dfb66830",
   "metadata": {},
   "source": [
    "### Preprocessed Training File Paths"
   ]
  },
  {
   "cell_type": "code",
   "execution_count": 9,
   "id": "c4b6589e",
   "metadata": {},
   "outputs": [],
   "source": [
    "import os\n",
    "import pandas as pd\n",
    "\n",
    "data_file = os.path.join(dataset_path,\"joints\" ,\"interpolated_all_joints.csv\")\n",
    "df = pd.read_csv(data_file, header=None)\n"
   ]
  },
  {
   "cell_type": "markdown",
   "id": "2a12826e",
   "metadata": {},
   "source": [
    "### Interpolate"
   ]
  },
  {
   "cell_type": "code",
   "execution_count": 10,
   "id": "dbe65246",
   "metadata": {},
   "outputs": [
    {
     "name": "stdout",
     "output_type": "stream",
     "text": [
      "[0.00000000e+00 1.47048000e-04 2.61282000e-04 ... 1.38936641e+02\n",
      " 1.38936641e+02 1.38936641e+02]\n"
     ]
    }
   ],
   "source": [
    "from interpolate_timestamps import interpolate_dataframe_to_sample_rate\n",
    "\n",
    "if (INTERPOLATE == True):\n",
    "    \n",
    "    df = interpolate_dataframe_to_sample_rate(df, ORIGINAL_FREQ)\n",
    "\n"
   ]
  },
  {
   "cell_type": "markdown",
   "id": "04a4e826",
   "metadata": {},
   "source": [
    "### FIR Filtering"
   ]
  },
  {
   "cell_type": "code",
   "execution_count": 11,
   "id": "147b1306",
   "metadata": {},
   "outputs": [],
   "source": [
    "import importlib\n",
    "import filter  # regular import first\n",
    "importlib.reload(filter)\n",
    "\n",
    "\n",
    "if (FILTER == True):\n",
    "    # Design filter\n",
    "    fir_coeffs = filter.design_fir_filter(filter_type='kaiser', fs=ORIGINAL_FREQ, fC=FILTER_FREQ, order=30)\n",
    "\n",
    "    # Apply to data\n",
    "    df = filter.apply_filter_to_torque_feedback_df(df, fir_coeffs, filter_velocity=FILTER_VELOCITY)"
   ]
  },
  {
   "cell_type": "markdown",
   "id": "88050431",
   "metadata": {},
   "source": [
    "### Downsample\n"
   ]
  },
  {
   "cell_type": "code",
   "execution_count": 12,
   "id": "7cd87252",
   "metadata": {},
   "outputs": [],
   "source": [
    "from downsample import downsample_dataframe\n",
    "\n",
    "if (DOWNSAMPLE == True):\n",
    "    df = downsample_dataframe(df, ORIGINAL_FREQ, DOWNSAMPLE_FREQ, DOWNSAMPLE_MOVING_AVERAGE)\n"
   ]
  },
  {
   "cell_type": "markdown",
   "id": "5775ab5e",
   "metadata": {},
   "source": [
    "### SAVE TO CSV"
   ]
  },
  {
   "cell_type": "code",
   "execution_count": 13,
   "id": "dcb06e62",
   "metadata": {},
   "outputs": [],
   "source": [
    "df.to_csv(data_file, index=False, header=False)\n"
   ]
  },
  {
   "cell_type": "markdown",
   "id": "656fddea",
   "metadata": {},
   "source": [
    "## Extract Jacobian"
   ]
  },
  {
   "cell_type": "code",
   "execution_count": 14,
   "id": "0552b7b3",
   "metadata": {},
   "outputs": [
    {
     "name": "stdout",
     "output_type": "stream",
     "text": [
      "Flattened Jacobians (column-major) written to /home/ndrakes1/force_estimation_data_captures/capture_9-6-25/force_sensor_capture_6/jacobian/interpolated_all_jacobian.csv\n"
     ]
    }
   ],
   "source": [
    "!mkdir {dataset_path}jacobian\n",
    "!.venv/bin/python3 interpolate_jacobian2.py {unit_convert_path} {dataset_path}jacobian/interpolated_all_jacobian.csv dvpsm.rob"
   ]
  },
  {
   "cell_type": "markdown",
   "id": "8a780eb2",
   "metadata": {},
   "source": [
    "# NOW DO INFERENCE ON THE JOINT DATA ON THE DVRK-12-MACHINE"
   ]
  }
 ],
 "metadata": {
  "kernelspec": {
   "display_name": ".venv",
   "language": "python",
   "name": "python3"
  },
  "language_info": {
   "codemirror_mode": {
    "name": "ipython",
    "version": 3
   },
   "file_extension": ".py",
   "mimetype": "text/x-python",
   "name": "python",
   "nbconvert_exporter": "python",
   "pygments_lexer": "ipython3",
   "version": "3.8.10"
  }
 },
 "nbformat": 4,
 "nbformat_minor": 5
}
