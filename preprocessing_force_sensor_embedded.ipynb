{
 "cells": [
  {
   "cell_type": "markdown",
   "id": "adcc2ae9",
   "metadata": {},
   "source": [
    "# FORCE ESTIMATION PREPROCESSING"
   ]
  },
  {
   "cell_type": "markdown",
   "id": "c05bec0b",
   "metadata": {},
   "source": [
    "## Specify Paths and FLAGS"
   ]
  },
  {
   "cell_type": "code",
   "execution_count": null,
   "id": "f7e6491c",
   "metadata": {},
   "outputs": [],
   "source": [
    "## TODO\n",
    "# - unit convert to do but raw embedded into SI units (Si Machine) - DONE\n",
    "# - jacobian preprocessing using interpolate jacobian (Si Machine) - DONE\n",
    "# - split embeded data into force sensor ground truth (Si Machine ) - DONE\n",
    "# - model prediction\n",
    "# - procesing rosbag data through simons repo dvrk_force_estimation repo (Si Machine )\n",
    "# - - rosbag reprocess (Si Machine)\n",
    "# - - preprocess script(interpolations) (Si Machine)\n",
    "\n",
    "\n",
    "# NOTES\n",
    "#   make sure you put the json converted files in the jhu-davinci folders  \n",
    "\n",
    "# file struture\n",
    "# ---------------\n",
    "# dataset_name \n",
    "# |__joints\n",
    "\n",
    "\n",
    "## EMBEDDED PATHS\n",
    "dataset_path = \"/home/ndrakes1/force_estimation_data_captures/capture_10-30-25/in_contact_tall_fixture/\" # SET\n",
    "dataset_name = \"contact\"\n",
    "\n",
    "fpga_v3_data_collection_path = \"/home/ndrakes1/fpgav3-data-collection\" # SET THIS ONCE\n",
    "preproces_path = \" \"  # should be this directory SET THIS ONCE\n",
    "\n",
    "true_preprocess_path = \"~/force_estimation/preprocess/\"\n",
    "\n",
    "\n",
    "unit_convert_script_py = fpga_v3_data_collection_path + \"/unit_convert/unit_convert.py\"\n",
    "si_unit_xml_path = \"/home/ndrakes1/catkin_ws/src/dvrk/dvrk_config_jhu/jhu-daVinci-Si/sawRobotIO1394-PSM3-698534.xml\" # SET THIS ONCE \n",
    "si_unit_json_path = \"/home/ndrakes1/catkin_ws/src/dvrk/dvrk_config_jhu/jhu-daVinci-Si/sawRobotIO1394-PSM1-292409.xml.json\"\n",
    "\n",
    "zynq_data_csv = \"/home/ndrakes1/force_estimation_data_captures/capture_10-30-25/in_contact_tall_fixture/contact.csv\" \n",
    "\n",
    "unit_convert_path = dataset_path + \"/\" + dataset_name + \"_unitConvert.csv\"\n",
    "\n",
    "\n",
    "\n",
    "ORIGINAL_FREQ = 10000\n",
    "\n",
    "INTERPOLATE = False\n",
    "\n",
    "\n",
    "FILTER = True\n",
    "FILTER_FREQ = 100\n",
    "FILTER_VELOCITY = True\n",
    "\n",
    "DOWNSAMPLE = True\n",
    "DOWNSAMPLE_FREQ = 200\n",
    "DOWNSAMPLE_MOVING_AVERAGE = True\n",
    "\n",
    "##################################################################################"
   ]
  },
  {
   "cell_type": "markdown",
   "id": "c84a61c0",
   "metadata": {},
   "source": [
    "# EMBEDDED"
   ]
  },
  {
   "cell_type": "code",
   "execution_count": 2,
   "id": "2816c965",
   "metadata": {},
   "outputs": [],
   "source": [
    "!. ~/catkin_ws/devel/setup.bash\n",
    "from downsample import downsample_dataframe\n",
    "import pandas as pd \n",
    "import os"
   ]
  },
  {
   "cell_type": "markdown",
   "id": "c0e63513",
   "metadata": {},
   "source": []
  },
  {
   "cell_type": "markdown",
   "id": "d9fdf5da",
   "metadata": {},
   "source": [
    "## Unit Convert"
   ]
  },
  {
   "cell_type": "code",
   "execution_count": 3,
   "id": "f04a5c43",
   "metadata": {},
   "outputs": [
    {
     "name": "stdout",
     "output_type": "stream",
     "text": [
      "Data written to /home/ndrakes1/force_estimation_data_captures/capture_10-30-25/in_contact_tall_fixture/contact_unitConvert.csv\n"
     ]
    }
   ],
   "source": [
    "!.venv/bin/python3 {unit_convert_script_py} -c {si_unit_json_path} -f {zynq_data_csv}"
   ]
  },
  {
   "cell_type": "markdown",
   "id": "44de9a1c",
   "metadata": {},
   "source": [
    "## Extract Force Sensor Data"
   ]
  },
  {
   "cell_type": "code",
   "execution_count": 4,
   "id": "0848897c",
   "metadata": {},
   "outputs": [
    {
     "name": "stdout",
     "output_type": "stream",
     "text": [
      "Saved SENSOR DATA CSV to /home/ndrakes1/force_estimation_data_captures/capture_10-30-25/in_contact_tall_fixture//sensor/sensor.csv\n"
     ]
    }
   ],
   "source": [
    "!mkdir {dataset_path}/sensor\n",
    "!.venv/bin/python3 sensor_processing.py {zynq_data_csv} {dataset_path}/sensor/sensor.csv\n",
    "\n",
    "df = pd.read_csv( os.path.join(dataset_path,\"sensor\",\"sensor.csv\") , header=None)\n",
    "\n",
    "if DOWNSAMPLE == True:\n",
    "    df = downsample_dataframe(df, ORIGINAL_FREQ, DOWNSAMPLE_FREQ, DOWNSAMPLE_MOVING_AVERAGE)\n",
    "    df.to_csv(os.path.join(dataset_path,\"sensor\",\"sensor.csv\"), index=False, header=False)\n",
    "\n"
   ]
  },
  {
   "cell_type": "markdown",
   "id": "311edc56",
   "metadata": {},
   "source": [
    "## Extract Joint Data"
   ]
  },
  {
   "cell_type": "code",
   "execution_count": 5,
   "id": "b68f1d34",
   "metadata": {},
   "outputs": [
    {
     "name": "stdout",
     "output_type": "stream",
     "text": [
      "Traceback (most recent call last):\n",
      "  File \"preprocessing.py\", line 25, in <module>\n",
      "    preprocess_csv(args.fileA, args.output_path)\n",
      "  File \"preprocessing.py\", line 6, in preprocess_csv\n",
      "    df = pd.read_csv(input_csv_path)\n",
      "  File \"/home/ndrakes1/force-estimation-fpga-data-preprocess/.venv/lib/python3.8/site-packages/pandas/io/parsers/readers.py\", line 912, in read_csv\n",
      "    return _read(filepath_or_buffer, kwds)\n",
      "  File \"/home/ndrakes1/force-estimation-fpga-data-preprocess/.venv/lib/python3.8/site-packages/pandas/io/parsers/readers.py\", line 577, in _read\n",
      "    parser = TextFileReader(filepath_or_buffer, **kwds)\n",
      "  File \"/home/ndrakes1/force-estimation-fpga-data-preprocess/.venv/lib/python3.8/site-packages/pandas/io/parsers/readers.py\", line 1407, in __init__\n",
      "    self._engine = self._make_engine(f, self.engine)\n",
      "  File \"/home/ndrakes1/force-estimation-fpga-data-preprocess/.venv/lib/python3.8/site-packages/pandas/io/parsers/readers.py\", line 1661, in _make_engine\n",
      "    self.handles = get_handle(\n",
      "  File \"/home/ndrakes1/force-estimation-fpga-data-preprocess/.venv/lib/python3.8/site-packages/pandas/io/common.py\", line 859, in get_handle\n",
      "    handle = open(\n",
      "FileNotFoundError: [Errno 2] No such file or directory: '/home/ndrakes1/force_estimation_data_captures/capture_10-30-25/in_contact_tall_fixture//in_contact_tall_fixture_unitConvert.csv'\n"
     ]
    }
   ],
   "source": [
    "!mkdir {dataset_path}joints\n",
    "!.venv/bin/python3 preprocessing.py {unit_convert_path} {dataset_path}joints/interpolated_all_joints.csv"
   ]
  },
  {
   "cell_type": "markdown",
   "id": "3efea023",
   "metadata": {},
   "source": [
    "## Filter Joint Data"
   ]
  },
  {
   "cell_type": "markdown",
   "id": "af5af789",
   "metadata": {},
   "source": []
  },
  {
   "cell_type": "markdown",
   "id": "dfb66830",
   "metadata": {},
   "source": [
    "### Preprocessed Training File Paths"
   ]
  },
  {
   "cell_type": "code",
   "execution_count": 6,
   "id": "c4b6589e",
   "metadata": {},
   "outputs": [
    {
     "ename": "FileNotFoundError",
     "evalue": "[Errno 2] No such file or directory: '/home/ndrakes1/force_estimation_data_captures/capture_10-30-25/in_contact_tall_fixture/joints/interpolated_all_joints.csv'",
     "output_type": "error",
     "traceback": [
      "\u001b[0;31m---------------------------------------------------------------------------\u001b[0m",
      "\u001b[0;31mFileNotFoundError\u001b[0m                         Traceback (most recent call last)",
      "Cell \u001b[0;32mIn[6], line 5\u001b[0m\n\u001b[1;32m      2\u001b[0m \u001b[38;5;28;01mimport\u001b[39;00m\u001b[38;5;250m \u001b[39m\u001b[38;5;21;01mpandas\u001b[39;00m\u001b[38;5;250m \u001b[39m\u001b[38;5;28;01mas\u001b[39;00m\u001b[38;5;250m \u001b[39m\u001b[38;5;21;01mpd\u001b[39;00m\n\u001b[1;32m      4\u001b[0m data_file \u001b[38;5;241m=\u001b[39m os\u001b[38;5;241m.\u001b[39mpath\u001b[38;5;241m.\u001b[39mjoin(dataset_path,\u001b[38;5;124m\"\u001b[39m\u001b[38;5;124mjoints\u001b[39m\u001b[38;5;124m\"\u001b[39m ,\u001b[38;5;124m\"\u001b[39m\u001b[38;5;124minterpolated_all_joints.csv\u001b[39m\u001b[38;5;124m\"\u001b[39m)\n\u001b[0;32m----> 5\u001b[0m df \u001b[38;5;241m=\u001b[39m \u001b[43mpd\u001b[49m\u001b[38;5;241;43m.\u001b[39;49m\u001b[43mread_csv\u001b[49m\u001b[43m(\u001b[49m\u001b[43mdata_file\u001b[49m\u001b[43m,\u001b[49m\u001b[43m \u001b[49m\u001b[43mheader\u001b[49m\u001b[38;5;241;43m=\u001b[39;49m\u001b[38;5;28;43;01mNone\u001b[39;49;00m\u001b[43m)\u001b[49m\n",
      "File \u001b[0;32m~/.venv/lib/python3.8/site-packages/pandas/io/parsers/readers.py:912\u001b[0m, in \u001b[0;36mread_csv\u001b[0;34m(filepath_or_buffer, sep, delimiter, header, names, index_col, usecols, dtype, engine, converters, true_values, false_values, skipinitialspace, skiprows, skipfooter, nrows, na_values, keep_default_na, na_filter, verbose, skip_blank_lines, parse_dates, infer_datetime_format, keep_date_col, date_parser, date_format, dayfirst, cache_dates, iterator, chunksize, compression, thousands, decimal, lineterminator, quotechar, quoting, doublequote, escapechar, comment, encoding, encoding_errors, dialect, on_bad_lines, delim_whitespace, low_memory, memory_map, float_precision, storage_options, dtype_backend)\u001b[0m\n\u001b[1;32m    899\u001b[0m kwds_defaults \u001b[38;5;241m=\u001b[39m _refine_defaults_read(\n\u001b[1;32m    900\u001b[0m     dialect,\n\u001b[1;32m    901\u001b[0m     delimiter,\n\u001b[0;32m   (...)\u001b[0m\n\u001b[1;32m    908\u001b[0m     dtype_backend\u001b[38;5;241m=\u001b[39mdtype_backend,\n\u001b[1;32m    909\u001b[0m )\n\u001b[1;32m    910\u001b[0m kwds\u001b[38;5;241m.\u001b[39mupdate(kwds_defaults)\n\u001b[0;32m--> 912\u001b[0m \u001b[38;5;28;01mreturn\u001b[39;00m \u001b[43m_read\u001b[49m\u001b[43m(\u001b[49m\u001b[43mfilepath_or_buffer\u001b[49m\u001b[43m,\u001b[49m\u001b[43m \u001b[49m\u001b[43mkwds\u001b[49m\u001b[43m)\u001b[49m\n",
      "File \u001b[0;32m~/.venv/lib/python3.8/site-packages/pandas/io/parsers/readers.py:577\u001b[0m, in \u001b[0;36m_read\u001b[0;34m(filepath_or_buffer, kwds)\u001b[0m\n\u001b[1;32m    574\u001b[0m _validate_names(kwds\u001b[38;5;241m.\u001b[39mget(\u001b[38;5;124m\"\u001b[39m\u001b[38;5;124mnames\u001b[39m\u001b[38;5;124m\"\u001b[39m, \u001b[38;5;28;01mNone\u001b[39;00m))\n\u001b[1;32m    576\u001b[0m \u001b[38;5;66;03m# Create the parser.\u001b[39;00m\n\u001b[0;32m--> 577\u001b[0m parser \u001b[38;5;241m=\u001b[39m \u001b[43mTextFileReader\u001b[49m\u001b[43m(\u001b[49m\u001b[43mfilepath_or_buffer\u001b[49m\u001b[43m,\u001b[49m\u001b[43m \u001b[49m\u001b[38;5;241;43m*\u001b[39;49m\u001b[38;5;241;43m*\u001b[39;49m\u001b[43mkwds\u001b[49m\u001b[43m)\u001b[49m\n\u001b[1;32m    579\u001b[0m \u001b[38;5;28;01mif\u001b[39;00m chunksize \u001b[38;5;129;01mor\u001b[39;00m iterator:\n\u001b[1;32m    580\u001b[0m     \u001b[38;5;28;01mreturn\u001b[39;00m parser\n",
      "File \u001b[0;32m~/.venv/lib/python3.8/site-packages/pandas/io/parsers/readers.py:1407\u001b[0m, in \u001b[0;36mTextFileReader.__init__\u001b[0;34m(self, f, engine, **kwds)\u001b[0m\n\u001b[1;32m   1404\u001b[0m     \u001b[38;5;28mself\u001b[39m\u001b[38;5;241m.\u001b[39moptions[\u001b[38;5;124m\"\u001b[39m\u001b[38;5;124mhas_index_names\u001b[39m\u001b[38;5;124m\"\u001b[39m] \u001b[38;5;241m=\u001b[39m kwds[\u001b[38;5;124m\"\u001b[39m\u001b[38;5;124mhas_index_names\u001b[39m\u001b[38;5;124m\"\u001b[39m]\n\u001b[1;32m   1406\u001b[0m \u001b[38;5;28mself\u001b[39m\u001b[38;5;241m.\u001b[39mhandles: IOHandles \u001b[38;5;241m|\u001b[39m \u001b[38;5;28;01mNone\u001b[39;00m \u001b[38;5;241m=\u001b[39m \u001b[38;5;28;01mNone\u001b[39;00m\n\u001b[0;32m-> 1407\u001b[0m \u001b[38;5;28mself\u001b[39m\u001b[38;5;241m.\u001b[39m_engine \u001b[38;5;241m=\u001b[39m \u001b[38;5;28;43mself\u001b[39;49m\u001b[38;5;241;43m.\u001b[39;49m\u001b[43m_make_engine\u001b[49m\u001b[43m(\u001b[49m\u001b[43mf\u001b[49m\u001b[43m,\u001b[49m\u001b[43m \u001b[49m\u001b[38;5;28;43mself\u001b[39;49m\u001b[38;5;241;43m.\u001b[39;49m\u001b[43mengine\u001b[49m\u001b[43m)\u001b[49m\n",
      "File \u001b[0;32m~/.venv/lib/python3.8/site-packages/pandas/io/parsers/readers.py:1661\u001b[0m, in \u001b[0;36mTextFileReader._make_engine\u001b[0;34m(self, f, engine)\u001b[0m\n\u001b[1;32m   1659\u001b[0m     \u001b[38;5;28;01mif\u001b[39;00m \u001b[38;5;124m\"\u001b[39m\u001b[38;5;124mb\u001b[39m\u001b[38;5;124m\"\u001b[39m \u001b[38;5;129;01mnot\u001b[39;00m \u001b[38;5;129;01min\u001b[39;00m mode:\n\u001b[1;32m   1660\u001b[0m         mode \u001b[38;5;241m+\u001b[39m\u001b[38;5;241m=\u001b[39m \u001b[38;5;124m\"\u001b[39m\u001b[38;5;124mb\u001b[39m\u001b[38;5;124m\"\u001b[39m\n\u001b[0;32m-> 1661\u001b[0m \u001b[38;5;28mself\u001b[39m\u001b[38;5;241m.\u001b[39mhandles \u001b[38;5;241m=\u001b[39m \u001b[43mget_handle\u001b[49m\u001b[43m(\u001b[49m\n\u001b[1;32m   1662\u001b[0m \u001b[43m    \u001b[49m\u001b[43mf\u001b[49m\u001b[43m,\u001b[49m\n\u001b[1;32m   1663\u001b[0m \u001b[43m    \u001b[49m\u001b[43mmode\u001b[49m\u001b[43m,\u001b[49m\n\u001b[1;32m   1664\u001b[0m \u001b[43m    \u001b[49m\u001b[43mencoding\u001b[49m\u001b[38;5;241;43m=\u001b[39;49m\u001b[38;5;28;43mself\u001b[39;49m\u001b[38;5;241;43m.\u001b[39;49m\u001b[43moptions\u001b[49m\u001b[38;5;241;43m.\u001b[39;49m\u001b[43mget\u001b[49m\u001b[43m(\u001b[49m\u001b[38;5;124;43m\"\u001b[39;49m\u001b[38;5;124;43mencoding\u001b[39;49m\u001b[38;5;124;43m\"\u001b[39;49m\u001b[43m,\u001b[49m\u001b[43m \u001b[49m\u001b[38;5;28;43;01mNone\u001b[39;49;00m\u001b[43m)\u001b[49m\u001b[43m,\u001b[49m\n\u001b[1;32m   1665\u001b[0m \u001b[43m    \u001b[49m\u001b[43mcompression\u001b[49m\u001b[38;5;241;43m=\u001b[39;49m\u001b[38;5;28;43mself\u001b[39;49m\u001b[38;5;241;43m.\u001b[39;49m\u001b[43moptions\u001b[49m\u001b[38;5;241;43m.\u001b[39;49m\u001b[43mget\u001b[49m\u001b[43m(\u001b[49m\u001b[38;5;124;43m\"\u001b[39;49m\u001b[38;5;124;43mcompression\u001b[39;49m\u001b[38;5;124;43m\"\u001b[39;49m\u001b[43m,\u001b[49m\u001b[43m \u001b[49m\u001b[38;5;28;43;01mNone\u001b[39;49;00m\u001b[43m)\u001b[49m\u001b[43m,\u001b[49m\n\u001b[1;32m   1666\u001b[0m \u001b[43m    \u001b[49m\u001b[43mmemory_map\u001b[49m\u001b[38;5;241;43m=\u001b[39;49m\u001b[38;5;28;43mself\u001b[39;49m\u001b[38;5;241;43m.\u001b[39;49m\u001b[43moptions\u001b[49m\u001b[38;5;241;43m.\u001b[39;49m\u001b[43mget\u001b[49m\u001b[43m(\u001b[49m\u001b[38;5;124;43m\"\u001b[39;49m\u001b[38;5;124;43mmemory_map\u001b[39;49m\u001b[38;5;124;43m\"\u001b[39;49m\u001b[43m,\u001b[49m\u001b[43m \u001b[49m\u001b[38;5;28;43;01mFalse\u001b[39;49;00m\u001b[43m)\u001b[49m\u001b[43m,\u001b[49m\n\u001b[1;32m   1667\u001b[0m \u001b[43m    \u001b[49m\u001b[43mis_text\u001b[49m\u001b[38;5;241;43m=\u001b[39;49m\u001b[43mis_text\u001b[49m\u001b[43m,\u001b[49m\n\u001b[1;32m   1668\u001b[0m \u001b[43m    \u001b[49m\u001b[43merrors\u001b[49m\u001b[38;5;241;43m=\u001b[39;49m\u001b[38;5;28;43mself\u001b[39;49m\u001b[38;5;241;43m.\u001b[39;49m\u001b[43moptions\u001b[49m\u001b[38;5;241;43m.\u001b[39;49m\u001b[43mget\u001b[49m\u001b[43m(\u001b[49m\u001b[38;5;124;43m\"\u001b[39;49m\u001b[38;5;124;43mencoding_errors\u001b[39;49m\u001b[38;5;124;43m\"\u001b[39;49m\u001b[43m,\u001b[49m\u001b[43m \u001b[49m\u001b[38;5;124;43m\"\u001b[39;49m\u001b[38;5;124;43mstrict\u001b[39;49m\u001b[38;5;124;43m\"\u001b[39;49m\u001b[43m)\u001b[49m\u001b[43m,\u001b[49m\n\u001b[1;32m   1669\u001b[0m \u001b[43m    \u001b[49m\u001b[43mstorage_options\u001b[49m\u001b[38;5;241;43m=\u001b[39;49m\u001b[38;5;28;43mself\u001b[39;49m\u001b[38;5;241;43m.\u001b[39;49m\u001b[43moptions\u001b[49m\u001b[38;5;241;43m.\u001b[39;49m\u001b[43mget\u001b[49m\u001b[43m(\u001b[49m\u001b[38;5;124;43m\"\u001b[39;49m\u001b[38;5;124;43mstorage_options\u001b[39;49m\u001b[38;5;124;43m\"\u001b[39;49m\u001b[43m,\u001b[49m\u001b[43m \u001b[49m\u001b[38;5;28;43;01mNone\u001b[39;49;00m\u001b[43m)\u001b[49m\u001b[43m,\u001b[49m\n\u001b[1;32m   1670\u001b[0m \u001b[43m\u001b[49m\u001b[43m)\u001b[49m\n\u001b[1;32m   1671\u001b[0m \u001b[38;5;28;01massert\u001b[39;00m \u001b[38;5;28mself\u001b[39m\u001b[38;5;241m.\u001b[39mhandles \u001b[38;5;129;01mis\u001b[39;00m \u001b[38;5;129;01mnot\u001b[39;00m \u001b[38;5;28;01mNone\u001b[39;00m\n\u001b[1;32m   1672\u001b[0m f \u001b[38;5;241m=\u001b[39m \u001b[38;5;28mself\u001b[39m\u001b[38;5;241m.\u001b[39mhandles\u001b[38;5;241m.\u001b[39mhandle\n",
      "File \u001b[0;32m~/.venv/lib/python3.8/site-packages/pandas/io/common.py:859\u001b[0m, in \u001b[0;36mget_handle\u001b[0;34m(path_or_buf, mode, encoding, compression, memory_map, is_text, errors, storage_options)\u001b[0m\n\u001b[1;32m    854\u001b[0m \u001b[38;5;28;01melif\u001b[39;00m \u001b[38;5;28misinstance\u001b[39m(handle, \u001b[38;5;28mstr\u001b[39m):\n\u001b[1;32m    855\u001b[0m     \u001b[38;5;66;03m# Check whether the filename is to be opened in binary mode.\u001b[39;00m\n\u001b[1;32m    856\u001b[0m     \u001b[38;5;66;03m# Binary mode does not support 'encoding' and 'newline'.\u001b[39;00m\n\u001b[1;32m    857\u001b[0m     \u001b[38;5;28;01mif\u001b[39;00m ioargs\u001b[38;5;241m.\u001b[39mencoding \u001b[38;5;129;01mand\u001b[39;00m \u001b[38;5;124m\"\u001b[39m\u001b[38;5;124mb\u001b[39m\u001b[38;5;124m\"\u001b[39m \u001b[38;5;129;01mnot\u001b[39;00m \u001b[38;5;129;01min\u001b[39;00m ioargs\u001b[38;5;241m.\u001b[39mmode:\n\u001b[1;32m    858\u001b[0m         \u001b[38;5;66;03m# Encoding\u001b[39;00m\n\u001b[0;32m--> 859\u001b[0m         handle \u001b[38;5;241m=\u001b[39m \u001b[38;5;28;43mopen\u001b[39;49m\u001b[43m(\u001b[49m\n\u001b[1;32m    860\u001b[0m \u001b[43m            \u001b[49m\u001b[43mhandle\u001b[49m\u001b[43m,\u001b[49m\n\u001b[1;32m    861\u001b[0m \u001b[43m            \u001b[49m\u001b[43mioargs\u001b[49m\u001b[38;5;241;43m.\u001b[39;49m\u001b[43mmode\u001b[49m\u001b[43m,\u001b[49m\n\u001b[1;32m    862\u001b[0m \u001b[43m            \u001b[49m\u001b[43mencoding\u001b[49m\u001b[38;5;241;43m=\u001b[39;49m\u001b[43mioargs\u001b[49m\u001b[38;5;241;43m.\u001b[39;49m\u001b[43mencoding\u001b[49m\u001b[43m,\u001b[49m\n\u001b[1;32m    863\u001b[0m \u001b[43m            \u001b[49m\u001b[43merrors\u001b[49m\u001b[38;5;241;43m=\u001b[39;49m\u001b[43merrors\u001b[49m\u001b[43m,\u001b[49m\n\u001b[1;32m    864\u001b[0m \u001b[43m            \u001b[49m\u001b[43mnewline\u001b[49m\u001b[38;5;241;43m=\u001b[39;49m\u001b[38;5;124;43m\"\u001b[39;49m\u001b[38;5;124;43m\"\u001b[39;49m\u001b[43m,\u001b[49m\n\u001b[1;32m    865\u001b[0m \u001b[43m        \u001b[49m\u001b[43m)\u001b[49m\n\u001b[1;32m    866\u001b[0m     \u001b[38;5;28;01melse\u001b[39;00m:\n\u001b[1;32m    867\u001b[0m         \u001b[38;5;66;03m# Binary mode\u001b[39;00m\n\u001b[1;32m    868\u001b[0m         handle \u001b[38;5;241m=\u001b[39m \u001b[38;5;28mopen\u001b[39m(handle, ioargs\u001b[38;5;241m.\u001b[39mmode)\n",
      "\u001b[0;31mFileNotFoundError\u001b[0m: [Errno 2] No such file or directory: '/home/ndrakes1/force_estimation_data_captures/capture_10-30-25/in_contact_tall_fixture/joints/interpolated_all_joints.csv'"
     ]
    }
   ],
   "source": [
    "import os\n",
    "import pandas as pd\n",
    "\n",
    "data_file = os.path.join(dataset_path,\"joints\" ,\"interpolated_all_joints.csv\")\n",
    "df = pd.read_csv(data_file, header=None)\n"
   ]
  },
  {
   "cell_type": "markdown",
   "id": "2a12826e",
   "metadata": {},
   "source": [
    "### Interpolate"
   ]
  },
  {
   "cell_type": "code",
   "execution_count": null,
   "id": "dbe65246",
   "metadata": {},
   "outputs": [
    {
     "name": "stdout",
     "output_type": "stream",
     "text": [
      "[0.00000000e+00 4.77575000e-03 9.77616000e-03 ... 4.97847724e+01\n",
      " 4.97897724e+01 4.97947724e+01]\n"
     ]
    }
   ],
   "source": [
    "from interpolate_timestamps import interpolate_dataframe_to_sample_rate\n",
    "\n",
    "if (INTERPOLATE == True):\n",
    "    \n",
    "    df = interpolate_dataframe_to_sample_rate(df, ORIGINAL_FREQ)\n"
   ]
  },
  {
   "cell_type": "markdown",
   "id": "04a4e826",
   "metadata": {},
   "source": [
    "### FIR Filtering"
   ]
  },
  {
   "cell_type": "code",
   "execution_count": null,
   "id": "147b1306",
   "metadata": {},
   "outputs": [],
   "source": [
    "import importlib\n",
    "import filter  # regular import first\n",
    "importlib.reload(filter)\n",
    "\n",
    "\n",
    "if (FILTER == True):\n",
    "    # Design filter\n",
    "    fir_coeffs = filter.design_fir_filter(filter_type='kaiser', fs=ORIGINAL_FREQ, fC=FILTER_FREQ, order=30)\n",
    "\n",
    "    # Apply to data\n",
    "    df = filter.apply_filter_to_torque_feedback_df(df, fir_coeffs, filter_velocity=FILTER_VELOCITY)"
   ]
  },
  {
   "cell_type": "markdown",
   "id": "88050431",
   "metadata": {},
   "source": [
    "### Downsample\n"
   ]
  },
  {
   "cell_type": "code",
   "execution_count": null,
   "id": "7cd87252",
   "metadata": {},
   "outputs": [],
   "source": [
    "\n",
    "\n",
    "if (DOWNSAMPLE == True):\n",
    "    df = downsample_dataframe(df, ORIGINAL_FREQ, DOWNSAMPLE_FREQ, DOWNSAMPLE_MOVING_AVERAGE)\n"
   ]
  },
  {
   "cell_type": "markdown",
   "id": "5775ab5e",
   "metadata": {},
   "source": [
    "### SAVE TO CSV"
   ]
  },
  {
   "cell_type": "code",
   "execution_count": null,
   "id": "dcb06e62",
   "metadata": {},
   "outputs": [],
   "source": [
    "df.to_csv(data_file, index=False, header=False)\n"
   ]
  },
  {
   "cell_type": "markdown",
   "id": "656fddea",
   "metadata": {},
   "source": [
    "## Extract Jacobian"
   ]
  },
  {
   "cell_type": "code",
   "execution_count": null,
   "id": "0552b7b3",
   "metadata": {},
   "outputs": [
    {
     "name": "stdout",
     "output_type": "stream",
     "text": [
      "FIRST JACOBIAN VALUE\n",
      "[[ 1.38777878e-17  6.93889390e-18  3.20208314e-02  1.56125113e-17\n",
      "  -7.16690767e-02 -5.98082934e-02]\n",
      " [ 3.46944695e-18 -2.08166817e-17  7.32836073e-01  1.73472348e-18\n",
      "   3.90551270e-02 -5.16853500e-02]\n",
      " [ 0.00000000e+00 -3.46944695e-17 -6.79651349e-01  0.00000000e+00\n",
      "   3.87347167e-02 -5.85476660e-02]\n",
      " [ 5.55111512e-17 -9.98891998e-01  0.00000000e+00  3.20208314e-02\n",
      "  -6.08006429e-01  7.78903243e-01]\n",
      " [-1.00000000e+00 -1.11022302e-16  0.00000000e+00  7.32836073e-01\n",
      "  -5.25429223e-01 -5.39941300e-01]\n",
      " [-2.77555756e-17 -4.70614122e-02  0.00000000e+00 -6.79651349e-01\n",
      "  -5.95190990e-01 -3.19019013e-01]]\n",
      "Flattened Jacobians (column-major) written to /home/ndrakes1/force_estimation_data_captures/capture_10-13-25/x_axis_test/jacobian/interpolated_all_jacobian.csv\n"
     ]
    }
   ],
   "source": [
    "!mkdir {dataset_path}jacobian\n",
    "!.venv/bin/python3 interpolate_jacobian2.py {unit_convert_path} {dataset_path}jacobian/interpolated_all_jacobian.csv dvpsm.rob\n"
   ]
  },
  {
   "cell_type": "code",
   "execution_count": null,
   "id": "5439283e",
   "metadata": {},
   "outputs": [],
   "source": [
    "df = pd.read_csv(os.path.join(dataset_path,\"jacobian\", \"interpolated_all_jacobian.csv\"), header=None)\n",
    "\n",
    "if DOWNSAMPLE == True:\n",
    "    df = downsample_dataframe(df, ORIGINAL_FREQ, DOWNSAMPLE_FREQ, DOWNSAMPLE_MOVING_AVERAGE)\n",
    "    df.to_csv(os.path.join(dataset_path,\"jacobian\", \"interpolated_all_jacobian.csv\"), index=False, header=False)"
   ]
  },
  {
   "cell_type": "markdown",
   "id": "8a780eb2",
   "metadata": {},
   "source": [
    "# NOW DO INFERENCE ON THE JOINT DATA ON THE DVRK-12-MACHINE"
   ]
  }
 ],
 "metadata": {
  "kernelspec": {
   "display_name": ".venv",
   "language": "python",
   "name": "python3"
  },
  "language_info": {
   "codemirror_mode": {
    "name": "ipython",
    "version": 3
   },
   "file_extension": ".py",
   "mimetype": "text/x-python",
   "name": "python",
   "nbconvert_exporter": "python",
   "pygments_lexer": "ipython3",
   "version": "3.8.10"
  }
 },
 "nbformat": 4,
 "nbformat_minor": 5
}
