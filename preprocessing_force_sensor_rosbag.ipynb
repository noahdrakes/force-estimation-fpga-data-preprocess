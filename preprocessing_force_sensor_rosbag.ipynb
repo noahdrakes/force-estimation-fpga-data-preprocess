{
 "cells": [
  {
   "cell_type": "markdown",
   "id": "adcc2ae9",
   "metadata": {},
   "source": [
    "# FORCE ESTIMATION PREPROCESSING"
   ]
  },
  {
   "cell_type": "markdown",
   "id": "c05bec0b",
   "metadata": {},
   "source": [
    "## Specify Paths and FLAGS"
   ]
  },
  {
   "cell_type": "code",
   "execution_count": null,
   "id": "5b72d58c",
   "metadata": {},
   "outputs": [],
   "source": [
    "## TODO\n",
    "# - unit convert to do but raw embedded into SI units (Si Machine) - DONE\n",
    "# - jacobian preprocessing using interpolate jacobian (Si Machine) - DONE\n",
    "# - split embeded data into force sensor ground truth (Si Machine ) - DONE\n",
    "# - model prediction\n",
    "# - procesing rosbag data through simons repo dvrk_force_estimation repo (Si Machine )\n",
    "# - - rosbag reprocess (Si Machine)\n",
    "# - - preprocess script(interpolations) (Si Machine)\n",
    "\n",
    "\n",
    "# NOTES\n",
    "#   make sure you put the json converted files in the jhu-davinci folders  \n",
    "\n",
    "# file struture\n",
    "# ---------------\n",
    "# dataset_name \n",
    "# |__joints\n",
    "\n",
    "# ROSBAG DATA [SET ALL THESE]\n",
    "\n",
    "# only need to set this path for force sensor processing \n",
    "rosbag_datapath = \"/home/ndrakes1/force_estimation_data_captures/capture_10-7-25/grip_fixture/rosbag/\"\n",
    "\n",
    "# note in the case of free space it is expecting only train and val bag and will split accordingly \n",
    "rosbag_train = \"/home/ndrakes1/force_estimation_data_captures/capture_10-7-25/freespace/train/\"\n",
    "rosbag_val = \"/home/ndrakes1/force_estimation_data_captures/capture_10-7-25/freespace/val/\"\n",
    "rosbag_test = \"/home/ndrakes1/force_estimation_data_captures/capture_10-7-25/freespace/test/\"\n",
    "# rosbag_test\n",
    "\n",
    "# ROSBAG PATHS [SET ALL THESE]\n",
    "read_rosbag_script_py = \"/home/ndrakes1/dvrk_force_estimation/preprocess/read_ros_bags.py\" ## SET \n",
    "preprocess_rosbag_script_py = \"/home/ndrakes1/dvrk_force_estimation/preprocess/preprocess.py\" ## SET\n",
    "\n",
    "\n",
    "FREE_SPACE_FLAG = False\n",
    "PERIOD = .005 ## TARGET PERIOD OF DOWNSAMPLED ROSBGAG DATA (either set to .005 200Hz or .0001 for 1kHz)\n",
    "\n",
    "##################################################################################"
   ]
  },
  {
   "cell_type": "markdown",
   "id": "ca8dca5d",
   "metadata": {},
   "source": [
    "## Preprocessing for Force Sensor"
   ]
  },
  {
   "cell_type": "code",
   "execution_count": 6,
   "id": "55727e75",
   "metadata": {},
   "outputs": [
    {
     "name": "stdout",
     "output_type": "stream",
     "text": [
      "/home/ndrakes1/catkin_ws/src/cisst-saw/cisst-ros/cisst_msgs:/home/ndrakes1/catkin_ws/src/cisst-saw/cisstNetlib:/home/ndrakes1/catkin_ws/src/cisst-saw/cisst:/home/ndrakes1/catkin_ws/src/cisst-saw/cisst-ros/cisst_ros_bridge:/home/ndrakes1/catkin_ws/src/crtk/crtk_msgs:/home/ndrakes1/catkin_ws/src/cisst-saw/cisst-ros/cisst_ros_crtk:/home/ndrakes1/catkin_ws/src/crtk/crtk_python_client:/home/ndrakes1/catkin_ws/src/cisst-saw/sawIntuitiveResearchKit/ros/dvrk_arms_from_ros/components:/home/ndrakes1/catkin_ws/src/dvrk/dvrk_camera_registration:/home/ndrakes1/catkin_ws/src/cisst-saw/sawIntuitiveResearchKit/share:/home/ndrakes1/catkin_ws/src/dvrk/dvrk_config_jhu:/home/ndrakes1/catkin_ws/src/cisst-saw/sawIntuitiveResearchKit/ros/dvrk_hrsv_widget:/home/ndrakes1/catkin_ws/src/dvrk/dvrk_model:/home/ndrakes1/catkin_ws/src/dvrk/dvrk_python:/home/ndrakes1/catkin_ws/src/dvrk/dvrk_video:/home/ndrakes1/catkin_ws/src/cisst-saw/sawKeyboard/components:/home/ndrakes1/catkin_ws/src/cisst-saw/sawControllers/core/components:/home/ndrakes1/catkin_ws/src/cisst-saw/sawControllers/core/examples:/home/ndrakes1/catkin_ws/src/cisst-saw/sawControllers/ros:/home/ndrakes1/catkin_ws/src/cisst-saw/sawRobotIO1394/core/components:/home/ndrakes1/catkin_ws/src/cisst-saw/sawRobotIO1394/core/applications:/home/ndrakes1/catkin_ws/src/cisst-saw/sawRobotIO1394/ros:/home/ndrakes1/catkin_ws/src/cisst-saw/sawRobotIO1394/core/tests:/home/ndrakes1/catkin_ws/src/cisst-saw/sawTextToSpeech/components:/home/ndrakes1/catkin_ws/src/cisst-saw/sawIntuitiveResearchKit/core/components:/home/ndrakes1/catkin_ws/src/cisst-saw/sawIntuitiveResearchKit/ros/dvrk_robot:/home/ndrakes1/catkin_ws/src/cisst-saw/sawIntuitiveResearchKit/core/applications:/home/ndrakes1/catkin_ws/src/cisst-saw/sawIntuitiveResearchKit/ros/examples/bilateralTeleop/components:/home/ndrakes1/catkin_ws/src/cisst-saw/sawIntuitiveResearchKit/core/examples/derivedTeleOperationPSM/components:/home/ndrakes1/catkin_ws/src/cisst-saw/sawIntuitiveResearchKit/ros/examples/derivedPSMQtROS/components:/home/ndrakes1/catkin_ws/src/cisst-saw/sawIntuitiveResearchKit/core/tests:/home/ndrakes1/catkin_ws/src/cisst-saw/sawTextToSpeech/examples:/opt/ros/noetic/share\n",
      "\n",
      "Parsing\n",
      "\n",
      "Processing force_test.bag\n",
      "Processed wrench: counts: 0\n",
      "Processed state joint current: count: 169317\n",
      "Processed state jaw current: count: 169318\n",
      "Processed Jacobian: count: 169318\n",
      "Wrote out free_train_0\n",
      "\n",
      "Parsing complete\n",
      "The entire process takes 47.08423924446106 seconds\n",
      "DONE WITH INITIAL\n",
      "(169300, 19) (169300, 37) (169300, 4)\n",
      "0.0 179.8847041130066\n"
     ]
    }
   ],
   "source": [
    "if FREE_SPACE_FLAG == False:\n",
    "    !mkdir {rosbag_datapath}/sensor\n",
    "    !bash -c \"source ~/catkin_ws/devel/setup.bash && echo \\$ROS_PACKAGE_PATH\"\n",
    "    !python3 {read_rosbag_script_py} -f {rosbag_datapath} -o {rosbag_datapath}/sensor/\n",
    "    !python3 {preprocess_rosbag_script_py} {rosbag_datapath}/sensor {PERIOD}"
   ]
  },
  {
   "cell_type": "markdown",
   "id": "04b09375",
   "metadata": {},
   "source": [
    "## Preprocessing Free Space Data"
   ]
  },
  {
   "cell_type": "code",
   "execution_count": 2,
   "id": "ce957f8f",
   "metadata": {},
   "outputs": [
    {
     "name": "stdout",
     "output_type": "stream",
     "text": [
      "/home/ndrakes1/catkin_ws/src/cisst-saw/cisst-ros/cisst_msgs:/home/ndrakes1/catkin_ws/src/cisst-saw/cisstNetlib:/home/ndrakes1/catkin_ws/src/cisst-saw/cisst:/home/ndrakes1/catkin_ws/src/cisst-saw/cisst-ros/cisst_ros_bridge:/home/ndrakes1/catkin_ws/src/crtk/crtk_msgs:/home/ndrakes1/catkin_ws/src/cisst-saw/cisst-ros/cisst_ros_crtk:/home/ndrakes1/catkin_ws/src/crtk/crtk_python_client:/home/ndrakes1/catkin_ws/src/cisst-saw/sawIntuitiveResearchKit/ros/dvrk_arms_from_ros/components:/home/ndrakes1/catkin_ws/src/dvrk/dvrk_camera_registration:/home/ndrakes1/catkin_ws/src/cisst-saw/sawIntuitiveResearchKit/share:/home/ndrakes1/catkin_ws/src/dvrk/dvrk_config_jhu:/home/ndrakes1/catkin_ws/src/cisst-saw/sawIntuitiveResearchKit/ros/dvrk_hrsv_widget:/home/ndrakes1/catkin_ws/src/dvrk/dvrk_model:/home/ndrakes1/catkin_ws/src/dvrk/dvrk_python:/home/ndrakes1/catkin_ws/src/dvrk/dvrk_video:/home/ndrakes1/catkin_ws/src/cisst-saw/sawKeyboard/components:/home/ndrakes1/catkin_ws/src/cisst-saw/sawControllers/core/components:/home/ndrakes1/catkin_ws/src/cisst-saw/sawControllers/core/examples:/home/ndrakes1/catkin_ws/src/cisst-saw/sawControllers/ros:/home/ndrakes1/catkin_ws/src/cisst-saw/sawRobotIO1394/core/components:/home/ndrakes1/catkin_ws/src/cisst-saw/sawRobotIO1394/core/applications:/home/ndrakes1/catkin_ws/src/cisst-saw/sawRobotIO1394/ros:/home/ndrakes1/catkin_ws/src/cisst-saw/sawRobotIO1394/core/tests:/home/ndrakes1/catkin_ws/src/cisst-saw/sawTextToSpeech/components:/home/ndrakes1/catkin_ws/src/cisst-saw/sawIntuitiveResearchKit/core/components:/home/ndrakes1/catkin_ws/src/cisst-saw/sawIntuitiveResearchKit/ros/dvrk_robot:/home/ndrakes1/catkin_ws/src/cisst-saw/sawIntuitiveResearchKit/core/applications:/home/ndrakes1/catkin_ws/src/cisst-saw/sawIntuitiveResearchKit/ros/examples/bilateralTeleop/components:/home/ndrakes1/catkin_ws/src/cisst-saw/sawIntuitiveResearchKit/core/examples/derivedTeleOperationPSM/components:/home/ndrakes1/catkin_ws/src/cisst-saw/sawIntuitiveResearchKit/ros/examples/derivedPSMQtROS/components:/home/ndrakes1/catkin_ws/src/cisst-saw/sawIntuitiveResearchKit/core/tests:/home/ndrakes1/catkin_ws/src/cisst-saw/sawTextToSpeech/examples:/opt/ros/noetic/share\n",
      "\n",
      "Parsing\n",
      "\n",
      "Processing train.bag\n",
      "Processed wrench: counts: 0\n",
      "Processed state joint current: count: 856496\n",
      "Processed state jaw current: count: 856501\n",
      "Processed Jacobian: count: 856497\n",
      "Wrote out free_train_0\n",
      "\n",
      "Parsing complete\n",
      "The entire process takes 251.22513461112976 seconds\n",
      "\n",
      "Parsing\n",
      "\n",
      "Processing val.bag\n",
      "Processed wrench: counts: 0\n",
      "Processed state joint current: count: 94921\n",
      "Processed state jaw current: count: 94922\n",
      "Processed Jacobian: count: 94921\n",
      "Wrote out free_train_0\n",
      "\n",
      "Parsing complete\n",
      "The entire process takes 26.322327613830566 seconds\n",
      "\n",
      "Parsing\n",
      "\n",
      "Processing val.bag\n",
      "Processed wrench: counts: 0\n",
      "Processed state joint current: count: 94921\n",
      "Processed state jaw current: count: 94922\n",
      "Processed Jacobian: count: 94921\n",
      "Wrote out free_train_0\n",
      "\n",
      "Parsing complete\n",
      "The entire process takes 26.606547832489014 seconds\n",
      "DONE WITH INITIAL\n",
      "(856400, 19) (856400, 37) (856400, 4)\n",
      "0.0 910.3982579708099\n",
      "Traceback (most recent call last):\n",
      "  File \"/home/ndrakes1/dvrk_force_estimation/preprocess/preprocess.py\", line 101, in <module>\n",
      "    interp_jaw[:, i + 1] = f(interpolated_time)\n",
      "  File \"/home/ndrakes1/force-estimation-fpga-data-preprocess/.venv/lib/python3.8/site-packages/scipy/interpolate/_polyint.py\", line 80, in __call__\n",
      "    y = self._evaluate(x)\n",
      "  File \"/home/ndrakes1/force-estimation-fpga-data-preprocess/.venv/lib/python3.8/site-packages/scipy/interpolate/_interpolate.py\", line 752, in _evaluate\n",
      "    below_bounds, above_bounds = self._check_bounds(x_new)\n",
      "  File \"/home/ndrakes1/force-estimation-fpga-data-preprocess/.venv/lib/python3.8/site-packages/scipy/interpolate/_interpolate.py\", line 786, in _check_bounds\n",
      "    raise ValueError(\"A value ({}) in x_new is above \"\n",
      "ValueError: A value (910.395) in x_new is above the interpolation range's maximum value (910.3947699069977).\n",
      "DONE WITH INITIAL\n",
      "(94900, 19) (94900, 37) (94900, 4)\n",
      "0.00014662742614746094 100.87590265274048\n",
      "DONE WITH INITIAL\n",
      "(94900, 19) (94900, 37) (94900, 4)\n",
      "0.00014662742614746094 100.87590265274048\n"
     ]
    }
   ],
   "source": [
    "from split_rosbag import split_rosbag_by_time\n",
    "\n",
    "if FREE_SPACE_FLAG == True:\n",
    "\n",
    "    # !mkdir {rosbag_datapath}/train {rosbag_datapath}/val {rosbag_datapath}/test\n",
    "    !bash -c \"source ~/catkin_ws/devel/setup.bash && echo \\$ROS_PACKAGE_PATH\"\n",
    "\n",
    "    !mkdir {rosbag_datapath}\n",
    "    !mkdir {rosbag_datapath}/train/ {rosbag_datapath}/val/ {rosbag_datapath}/test/\n",
    "\n",
    "    # ## split val rosbag into val and test \n",
    "    # split_rosbag_by_time(rosbag_val)\n",
    "\n",
    "    # !mv {rosbag_val}/test.bag {rosbag_datapath}/test\n",
    "    # !cp {rosbag_datapath}/train.bag {rosbag_train}\n",
    "    # # !mv {rosbag_val}/val.bag {rosbag_datapath}\n",
    "\n",
    "    !python3 {read_rosbag_script_py} -f {rosbag_train} -o {rosbag_datapath}/train/\n",
    "    !python3 {read_rosbag_script_py} -f {rosbag_val} -o {rosbag_datapath}/val/\n",
    "    !python3 {read_rosbag_script_py} -f {rosbag_val} -o {rosbag_datapath}/test/\n",
    "\n",
    "    !python3 {preprocess_rosbag_script_py} {rosbag_datapath}/train/ {PERIOD}\n",
    "    !python3 {preprocess_rosbag_script_py} {rosbag_datapath}/val/ {PERIOD}\n",
    "    !python3 {preprocess_rosbag_script_py} {rosbag_datapath}/test/ {PERIOD}"
   ]
  }
 ],
 "metadata": {
  "kernelspec": {
   "display_name": ".venv",
   "language": "python",
   "name": "python3"
  },
  "language_info": {
   "codemirror_mode": {
    "name": "ipython",
    "version": 3
   },
   "file_extension": ".py",
   "mimetype": "text/x-python",
   "name": "python",
   "nbconvert_exporter": "python",
   "pygments_lexer": "ipython3",
   "version": "3.8.10"
  }
 },
 "nbformat": 4,
 "nbformat_minor": 5
}
