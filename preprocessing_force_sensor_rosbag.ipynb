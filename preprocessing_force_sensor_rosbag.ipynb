{
 "cells": [
  {
   "cell_type": "markdown",
   "id": "adcc2ae9",
   "metadata": {},
   "source": [
    "# FORCE ESTIMATION PREPROCESSING"
   ]
  },
  {
   "cell_type": "markdown",
   "id": "c05bec0b",
   "metadata": {},
   "source": [
    "## Specify Paths and FLAGS"
   ]
  },
  {
   "cell_type": "code",
   "execution_count": 5,
   "id": "f7e6491c",
   "metadata": {},
   "outputs": [],
   "source": [
    "## TODO\n",
    "# - unit convert to do but raw embedded into SI units (Si Machine) - DONE\n",
    "# - jacobian preprocessing using interpolate jacobian (Si Machine) - DONE\n",
    "# - split embeded data into force sensor ground truth (Si Machine ) - DONE\n",
    "# - model prediction\n",
    "# - procesing rosbag data through simons repo dvrk_force_estimation repo (Si Machine )\n",
    "# - - rosbag reprocess (Si Machine)\n",
    "# - - preprocess script(interpolations) (Si Machine)\n",
    "\n",
    "\n",
    "# NOTES\n",
    "#   make sure you put the json converted files in the jhu-davinci folders  \n",
    "\n",
    "# file struture\n",
    "# ---------------\n",
    "# dataset_name \n",
    "# |__joints\n",
    "\n",
    "rosbag_datapath = \"/home/ndrakes1/force_estimation/data/test_rosbag\"\n",
    "\n",
    "# ROSBAG PATHS\n",
    "read_rosbag_script_py = \"~/force_estimation/preprocess/dvrk_force_estimation/preprocess/read_ros_bags.py\"\n",
    "preprocess_rosbag_script_py = \"/home/ndrakes1/force_estimation/preprocess/dvrk_force_estimation/preprocess/preprocess.py\"\n",
    "\n",
    "\n",
    "FREE_SPACE_FLAG = True\n",
    "\n",
    "##################################################################################"
   ]
  },
  {
   "cell_type": "markdown",
   "id": "0555a0f0",
   "metadata": {},
   "source": [
    "# Initial Preprocessing\n"
   ]
  },
  {
   "cell_type": "code",
   "execution_count": null,
   "id": "8fc8ecbd",
   "metadata": {},
   "outputs": [
    {
     "name": "stdout",
     "output_type": "stream",
     "text": [
      "mkdir: cannot create directory ‘/home/ndrakes1/force_estimation/data/test_rosbag/parsed_data’: File exists\n",
      "python3: can't open file '/home/ndrakes1/force_estimation/preprocess/force-estimation-fpga-data-preprocess/{read_rosbag_script_py}': [Errno 2] No such file or directory\n"
     ]
    }
   ],
   "source": [
    "!mkdir {rosbag_datapath}/parsed_data\n",
    "!.venv/bin/python3 {read_rosbag_script_py} -f {rosbag_datapath} -o {rosbag_datapath}/parsed_data"
   ]
  }
 ],
 "metadata": {
  "kernelspec": {
   "display_name": ".venv",
   "language": "python",
   "name": "python3"
  },
  "language_info": {
   "codemirror_mode": {
    "name": "ipython",
    "version": 3
   },
   "file_extension": ".py",
   "mimetype": "text/x-python",
   "name": "python",
   "nbconvert_exporter": "python",
   "pygments_lexer": "ipython3",
   "version": "3.12.3"
  }
 },
 "nbformat": 4,
 "nbformat_minor": 5
}
