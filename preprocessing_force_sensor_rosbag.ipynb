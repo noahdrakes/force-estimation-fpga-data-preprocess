{
 "cells": [
  {
   "cell_type": "markdown",
   "id": "adcc2ae9",
   "metadata": {},
   "source": [
    "# FORCE ESTIMATION PREPROCESSING"
   ]
  },
  {
   "cell_type": "markdown",
   "id": "c05bec0b",
   "metadata": {},
   "source": [
    "## Specify Paths and FLAGS"
   ]
  },
  {
   "cell_type": "code",
   "execution_count": null,
   "id": "5b72d58c",
   "metadata": {},
   "outputs": [],
   "source": [
    "## TODO\n",
    "# - unit convert to do but raw embedded into SI units (Si Machine) - DONE\n",
    "# - jacobian preprocessing using interpolate jacobian (Si Machine) - DONE\n",
    "# - split embeded data into force sensor ground truth (Si Machine ) - DONE\n",
    "# - model prediction\n",
    "# - procesing rosbag data through simons repo dvrk_force_estimation repo (Si Machine )\n",
    "# - - rosbag reprocess (Si Machine)\n",
    "# - - preprocess script(interpolations) (Si Machine)\n",
    "\n",
    "\n",
    "# NOTES\n",
    "#   make sure you put the json converted files in the jhu-davinci folders  \n",
    "\n",
    "# file struture\n",
    "# ---------------\n",
    "# dataset_name \n",
    "# |__joints\n",
    "\n",
    "# ROSBAG DATA [SET ALL THESE]\n",
    "\n",
    "# only need to set this path for force sensor processing \n",
    "rosbag_datapath = \"/home/ndrakes1/force-estimation-fpga-data-preprocess/test_rosbag/\"\n",
    "\n",
    "# note in the case of free space it is expecting only train and val bag and will split accordingly \n",
    "rosbag_train = \"/home/ndrakes1/force-estimation-fpga-data-preprocess/test_rosbag/train/\"\n",
    "rosbag_val = \"/home/ndrakes1/force-estimation-fpga-data-preprocess/test_rosbag/val/\"\n",
    "rosbag_test = \"/home/ndrakes1/force-estimation-fpga-data-preprocess/test_rosbag/test/\"\n",
    "# rosbag_test\n",
    "\n",
    "# ROSBAG PATHS [SET ALL THESE]\n",
    "read_rosbag_script_py = \"/home/ndrakes1/dvrk_force_estimation/preprocess/read_ros_bags.py\" ## SET \n",
    "preprocess_rosbag_script_py = \"/home/ndrakes1/dvrk_force_estimation/preprocess/preprocess.py\" ## SET\n",
    "\n",
    "\n",
    "FREE_SPACE_FLAG = True\n",
    "PERIOD = .005 ## TARGET PERIOD OF DOWNSAMPLED ROSBGAG DATA (either set to .005 200Hz or .0001 for 1kHz)\n",
    "\n",
    "##################################################################################"
   ]
  },
  {
   "cell_type": "markdown",
   "id": "ca8dca5d",
   "metadata": {},
   "source": [
    "## Preprocessing for Force Sensor"
   ]
  },
  {
   "cell_type": "code",
   "execution_count": 3,
   "id": "55727e75",
   "metadata": {},
   "outputs": [],
   "source": [
    "if FREE_SPACE_FLAG == False:\n",
    "    !mkdir {rosbag_datapath}/sensor\n",
    "    !bash -c \"source ~/catkin_ws/devel/setup.bash && echo \\$ROS_PACKAGE_PATH\"\n",
    "    !python3 {read_rosbag_script_py} -f {rosbag_datapath} -o {rosbag_datapath}/sensor/\n",
    "    !python3 {preprocess_rosbag_script_py} {rosbag_datapath}/sensor {PERIOD}"
   ]
  },
  {
   "cell_type": "markdown",
   "id": "04b09375",
   "metadata": {},
   "source": [
    "## Preprocessing Free Space Data"
   ]
  },
  {
   "cell_type": "code",
   "execution_count": 20,
   "id": "ce957f8f",
   "metadata": {},
   "outputs": [
    {
     "name": "stdout",
     "output_type": "stream",
     "text": [
      "mkdir: cannot create directory ‘/home/ndrakes1/force-estimation-fpga-data-preprocess/test_rosbag//train’: File exists\n",
      "mkdir: cannot create directory ‘/home/ndrakes1/force-estimation-fpga-data-preprocess/test_rosbag//val’: File exists\n",
      "mkdir: cannot create directory ‘/home/ndrakes1/force-estimation-fpga-data-preprocess/test_rosbag//test’: File exists\n",
      "/home/ndrakes1/catkin_ws/src/cisst-saw/cisst-ros/cisst_msgs:/home/ndrakes1/catkin_ws/src/cisst-saw/cisstNetlib:/home/ndrakes1/catkin_ws/src/cisst-saw/cisst:/home/ndrakes1/catkin_ws/src/cisst-saw/cisst-ros/cisst_ros_bridge:/home/ndrakes1/catkin_ws/src/crtk/crtk_msgs:/home/ndrakes1/catkin_ws/src/cisst-saw/cisst-ros/cisst_ros_crtk:/home/ndrakes1/catkin_ws/src/crtk/crtk_python_client:/home/ndrakes1/catkin_ws/src/cisst-saw/sawIntuitiveResearchKit/ros/dvrk_arms_from_ros/components:/home/ndrakes1/catkin_ws/src/dvrk/dvrk_camera_registration:/home/ndrakes1/catkin_ws/src/cisst-saw/sawIntuitiveResearchKit/share:/home/ndrakes1/catkin_ws/src/dvrk/dvrk_config_jhu:/home/ndrakes1/catkin_ws/src/cisst-saw/sawIntuitiveResearchKit/ros/dvrk_hrsv_widget:/home/ndrakes1/catkin_ws/src/dvrk/dvrk_model:/home/ndrakes1/catkin_ws/src/dvrk/dvrk_python:/home/ndrakes1/catkin_ws/src/dvrk/dvrk_video:/home/ndrakes1/catkin_ws/src/cisst-saw/sawKeyboard/components:/home/ndrakes1/catkin_ws/src/cisst-saw/sawControllers/core/components:/home/ndrakes1/catkin_ws/src/cisst-saw/sawControllers/core/examples:/home/ndrakes1/catkin_ws/src/cisst-saw/sawControllers/ros:/home/ndrakes1/catkin_ws/src/cisst-saw/sawRobotIO1394/core/components:/home/ndrakes1/catkin_ws/src/cisst-saw/sawRobotIO1394/core/applications:/home/ndrakes1/catkin_ws/src/cisst-saw/sawRobotIO1394/ros:/home/ndrakes1/catkin_ws/src/cisst-saw/sawRobotIO1394/core/tests:/home/ndrakes1/catkin_ws/src/cisst-saw/sawTextToSpeech/components:/home/ndrakes1/catkin_ws/src/cisst-saw/sawIntuitiveResearchKit/core/components:/home/ndrakes1/catkin_ws/src/cisst-saw/sawIntuitiveResearchKit/ros/dvrk_robot:/home/ndrakes1/catkin_ws/src/cisst-saw/sawIntuitiveResearchKit/core/applications:/home/ndrakes1/catkin_ws/src/cisst-saw/sawIntuitiveResearchKit/ros/examples/bilateralTeleop/components:/home/ndrakes1/catkin_ws/src/cisst-saw/sawIntuitiveResearchKit/core/examples/derivedTeleOperationPSM/components:/home/ndrakes1/catkin_ws/src/cisst-saw/sawIntuitiveResearchKit/ros/examples/derivedPSMQtROS/components:/home/ndrakes1/catkin_ws/src/cisst-saw/sawIntuitiveResearchKit/core/tests:/home/ndrakes1/catkin_ws/src/cisst-saw/sawTextToSpeech/examples:/opt/ros/noetic/share\n",
      "HEREE\n",
      "FIND BAG FOLDER\n",
      "[DONE] Split /home/ndrakes1/force-estimation-fpga-data-preprocess/test_rosbag/val/val_test.bag → /home/ndrakes1/force-estimation-fpga-data-preprocess/test_rosbag/val/val.bag, /home/ndrakes1/force-estimation-fpga-data-preprocess/test_rosbag/val/test.bag\n",
      "\n",
      "Parsing\n",
      "\n",
      "Processing train.bag\n",
      "Processed wrench: counts: 0\n",
      "Processed state joint current: count: 61467\n",
      "Processed state jaw current: count: 61468\n",
      "Processed Jacobian: count: 61466\n",
      "Wrote out free_train_0\n",
      "\n",
      "Parsing complete\n",
      "The entire process takes 21.270609617233276 seconds\n",
      "\n",
      "Parsing\n",
      "\n",
      "Processing val.bag\n",
      "Processed wrench: counts: 0\n",
      "Processed state joint current: count: 9381\n",
      "Processed state jaw current: count: 9381\n",
      "Processed Jacobian: count: 9380\n",
      "Wrote out free_train_0\n",
      "\n",
      "Parsing complete\n",
      "The entire process takes 3.1393351554870605 seconds\n",
      "\n",
      "Parsing\n",
      "\n",
      "Processing val.bag\n",
      "Processed wrench: counts: 0\n",
      "Processed state joint current: count: 9381\n",
      "Processed state jaw current: count: 9381\n",
      "Processed Jacobian: count: 9380\n",
      "Wrote out free_train_0\n",
      "\n",
      "Parsing complete\n",
      "The entire process takes 3.2069814205169678 seconds\n",
      "(61400, 19) (61400, 37) (61400, 4)\n",
      "0.009429454803466797 617.8000366687775\n",
      "(9300, 19) (9300, 37) (9300, 4)\n",
      "0.009974956512451172 93.56768894195557\n",
      "python3: can't open file '{preprocess_rosbag_script_py}': [Errno 2] No such file or directory\n"
     ]
    }
   ],
   "source": [
    "from split_rosbag import split_rosbag_by_time\n",
    "\n",
    "if FREE_SPACE_FLAG == True:\n",
    "\n",
    "    !mkdir {rosbag_datapath}/train {rosbag_datapath}/val {rosbag_datapath}/test\n",
    "    !bash -c \"source ~/catkin_ws/devel/setup.bash && echo \\$ROS_PACKAGE_PATH\"\n",
    "\n",
    "    ## split val rosbag into val and test \n",
    "    split_rosbag_by_time(rosbag_val)\n",
    "\n",
    "    !mv {rosbag_val}/test.bag {rosbag_datapath}/test\n",
    "    !mv {rosbag_val}/val_test.bag {rosbag_datapath}\n",
    "\n",
    "    !python3 {read_rosbag_script_py} -f {rosbag_train} -o {rosbag_datapath}/train/\n",
    "    !python3 {read_rosbag_script_py} -f {rosbag_val} -o {rosbag_datapath}/val/\n",
    "    !python3 {read_rosbag_script_py} -f {rosbag_val} -o {rosbag_datapath}/test/\n",
    "\n",
    "    !python3 {preprocess_rosbag_script_py} {rosbag_train} {PERIOD}\n",
    "    !python3 {preprocess_rosbag_script_py} {rosbag_val} {PERIOD}\n",
    "    !python3 {preprocess_rosbag_script_py} {rosbag_test} {PERIOD}"
   ]
  }
 ],
 "metadata": {
  "kernelspec": {
   "display_name": ".venv",
   "language": "python",
   "name": "python3"
  },
  "language_info": {
   "codemirror_mode": {
    "name": "ipython",
    "version": 3
   },
   "file_extension": ".py",
   "mimetype": "text/x-python",
   "name": "python",
   "nbconvert_exporter": "python",
   "pygments_lexer": "ipython3",
   "version": "3.8.10"
  }
 },
 "nbformat": 4,
 "nbformat_minor": 5
}
